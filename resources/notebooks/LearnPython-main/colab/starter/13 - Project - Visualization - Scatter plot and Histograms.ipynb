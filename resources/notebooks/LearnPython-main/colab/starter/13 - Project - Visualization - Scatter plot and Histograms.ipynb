{
 "cells": [
  {
   "cell_type": "markdown",
   "id": "f9977832",
   "metadata": {},
   "source": [
    "<a \n",
    " href=\"https://colab.research.google.com/github/LearnPythonWithRune/LearnPython/blob/main/colab/starter/13 - Project - Visualization - Scatter plot and Histograms.ipynb\"\n",
    " target=\"_parent\">\n",
    "<img \n",
    " src=\"https://colab.research.google.com/assets/colab-badge.svg\"\n",
    "alt=\"Open In Colab\"/>\n",
    "</a>"
   ]
  },
  {
   "cell_type": "markdown",
   "id": "b30ee0c0",
   "metadata": {},
   "source": [
    "# Project - Horsepower vs Torque and Roll Dice\n",
    "### Goal\n",
    "- Learn how to make scatter plot and histograms"
   ]
  },
  {
   "cell_type": "markdown",
   "id": "352fdcea",
   "metadata": {},
   "source": [
    "### Horsepower vs Torque\n",
    "- Import matplotlib.pyplot as plt and use %matplotlib inline.\n",
    "- Import csv\n",
    "- Read the files/cars.csv wil into a list of dictionaries.\n",
    "- Use list comprehension to get\n",
    "    - Horsepwer\n",
    "    - Torque\n",
    "    - Bonus: Fuel City mpg\n",
    "- Make a scatter plot\n",
    "    - Options: Use alpha=.25 and c= with the list of Fuel City mpg"
   ]
  },
  {
   "cell_type": "code",
   "execution_count": null,
   "id": "cc9760a2",
   "metadata": {},
   "outputs": [],
   "source": [
    "import matplotlib.pyplot as plt\n",
    "%matplotlib inline "
   ]
  },
  {
   "cell_type": "code",
   "execution_count": null,
   "id": "04582fc2",
   "metadata": {},
   "outputs": [],
   "source": [
    "import urllib.request\n",
    "import csv"
   ]
  },
  {
   "cell_type": "code",
   "execution_count": null,
   "id": "6a92a259",
   "metadata": {},
   "outputs": [],
   "source": [
    "remote_file = \"https://raw.githubusercontent.com/LearnPythonWithRune/LearnPython/main/colab/files/cars.csv\"\n",
    "\n",
    "with urllib.request.urlopen(remote_file) as f:\n",
    "    csv_reader = csv.DictReader(f.read().decode().split('\\n'))\n",
    "    cars = list(csv_reader)"
   ]
  },
  {
   "cell_type": "code",
   "execution_count": null,
   "id": "f49a7dc2",
   "metadata": {},
   "outputs": [],
   "source": []
  },
  {
   "cell_type": "code",
   "execution_count": null,
   "id": "17527b81",
   "metadata": {},
   "outputs": [],
   "source": []
  },
  {
   "cell_type": "code",
   "execution_count": null,
   "id": "9864e3ea",
   "metadata": {},
   "outputs": [],
   "source": []
  },
  {
   "cell_type": "markdown",
   "id": "d837fa92",
   "metadata": {},
   "source": [
    "### Roll Dice\n",
    "- Import random\n",
    "- Create a functin role_dice(), which simulates a roll of 2 dice.\n",
    "- Use list comprehension to create a list of 500 calls to role_dice().\n",
    "- Create a histogram with 11 bins of the list."
   ]
  },
  {
   "cell_type": "code",
   "execution_count": null,
   "id": "9be2c73b",
   "metadata": {},
   "outputs": [],
   "source": []
  },
  {
   "cell_type": "code",
   "execution_count": null,
   "id": "509bb692",
   "metadata": {},
   "outputs": [],
   "source": []
  },
  {
   "cell_type": "code",
   "execution_count": null,
   "id": "80e01baa",
   "metadata": {},
   "outputs": [],
   "source": []
  },
  {
   "cell_type": "code",
   "execution_count": null,
   "id": "99bb1c6f",
   "metadata": {},
   "outputs": [],
   "source": []
  },
  {
   "cell_type": "code",
   "execution_count": null,
   "id": "01e1aea1",
   "metadata": {},
   "outputs": [],
   "source": []
  },
  {
   "cell_type": "code",
   "execution_count": null,
   "id": "14347137",
   "metadata": {},
   "outputs": [],
   "source": []
  },
  {
   "cell_type": "code",
   "execution_count": null,
   "id": "f7399fd6",
   "metadata": {},
   "outputs": [],
   "source": []
  }
 ],
 "metadata": {
  "language_info": {
   "name": "python"
  }
 },
 "nbformat": 4,
 "nbformat_minor": 5
}
