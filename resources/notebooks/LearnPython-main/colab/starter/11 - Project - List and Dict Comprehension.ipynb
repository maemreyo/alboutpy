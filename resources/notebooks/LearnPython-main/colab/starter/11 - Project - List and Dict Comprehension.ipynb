{
 "cells": [
  {
   "cell_type": "markdown",
   "id": "58a886d8",
   "metadata": {},
   "source": [
    "<a \n",
    " href=\"https://colab.research.google.com/github/LearnPythonWithRune/LearnPython/blob/main/colab/starter/11 - Project - List and Dict Comprehension.ipynb\"\n",
    " target=\"_parent\">\n",
    "<img \n",
    " src=\"https://colab.research.google.com/assets/colab-badge.svg\"\n",
    "alt=\"Open In Colab\"/>\n",
    "</a>"
   ]
  },
  {
   "cell_type": "markdown",
   "id": "6d52fc50",
   "metadata": {},
   "source": [
    "# Project - List and Dict Comprehension\n",
    "### Goal\n",
    "- Learn to use list and dict comprehension"
   ]
  },
  {
   "cell_type": "markdown",
   "id": "55903c26",
   "metadata": {},
   "source": [
    "### Description\n",
    "- Redo some of our code"
   ]
  },
  {
   "cell_type": "markdown",
   "id": "c083b523",
   "metadata": {},
   "source": [
    "### Encrypt with List Comprehension\n",
    "- Use **encrypt_char** and list comprehension to encrypt a string (\"you are awesome\").\n",
    "- HINT: You can use join(.)"
   ]
  },
  {
   "cell_type": "code",
   "execution_count": null,
   "id": "9f437155",
   "metadata": {},
   "outputs": [],
   "source": []
  },
  {
   "cell_type": "code",
   "execution_count": null,
   "id": "88d41cc2",
   "metadata": {},
   "outputs": [],
   "source": []
  },
  {
   "cell_type": "code",
   "execution_count": null,
   "id": "8fd0d7b9",
   "metadata": {},
   "outputs": [],
   "source": []
  },
  {
   "cell_type": "markdown",
   "id": "99ea9003",
   "metadata": {},
   "source": [
    "### Decrypt with List Comprehension\n",
    "- Use **decrypt_char** and list comprehension to decrypt the cipher."
   ]
  },
  {
   "cell_type": "code",
   "execution_count": null,
   "id": "0e0791ed",
   "metadata": {},
   "outputs": [],
   "source": []
  },
  {
   "cell_type": "code",
   "execution_count": null,
   "id": "056c2947",
   "metadata": {},
   "outputs": [],
   "source": []
  },
  {
   "cell_type": "markdown",
   "id": "fb4ad7d5",
   "metadata": {},
   "source": [
    "### Use Dict Comprehension for Frequency Count\n",
    "- Prompt the user for a line of text.\n",
    "- Use dict comprehension to count the number of occurences of each characerter.\n",
    "- Example: \"aabbccccc\" should give {'a': 2, 'b': 2, 'c': 5}\n",
    "- HINT: using count('a') on a string will return the number of occurences of 'a'."
   ]
  },
  {
   "cell_type": "code",
   "execution_count": null,
   "id": "bdf2fd1e",
   "metadata": {},
   "outputs": [],
   "source": []
  },
  {
   "cell_type": "code",
   "execution_count": null,
   "id": "af329153",
   "metadata": {},
   "outputs": [],
   "source": []
  }
 ],
 "metadata": {},
 "nbformat": 4,
 "nbformat_minor": 5
}
