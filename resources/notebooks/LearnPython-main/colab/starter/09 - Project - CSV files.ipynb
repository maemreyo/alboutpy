{
 "cells": [
  {
   "cell_type": "markdown",
   "id": "3a30ea7a",
   "metadata": {},
   "source": [
    "<a \n",
    " href=\"https://colab.research.google.com/github/LearnPythonWithRune/LearnPython/blob/main/colab/starter/09 - Project - CSV files.ipynb\"\n",
    " target=\"_parent\">\n",
    "<img \n",
    " src=\"https://colab.research.google.com/assets/colab-badge.svg\"\n",
    "alt=\"Open In Colab\"/>\n",
    "</a>"
   ]
  },
  {
   "cell_type": "markdown",
   "id": "bafa3fdb",
   "metadata": {},
   "source": [
    "# Project - CSV files - Cars\n",
    "### Goal\n",
    "- Learn how to read and process [CSV files](https://en.wikipedia.org/wiki/Comma-separated_values)\n",
    "- Process files/cars.csv and calculate the average horsepower for each car brand"
   ]
  },
  {
   "cell_type": "markdown",
   "id": "29cf56e1",
   "metadata": {},
   "source": [
    "### Description\n",
    "- Process the file files/cars.csv and calculate the average horsepower for each car brand\n",
    "- Step 1: import csv\n",
    "- Step 2: Read CSV file into a list of dictionaries\n",
    "- Step 3: Use a dictionary to have a list of horsepowers for each car brand\n",
    "    - HINT: Car brand is called **Make** in dataset\n",
    "    - HINT: Use .get(car['Make'], []) + [car['Horsepower']]\n",
    "- Step 4: Use a new dictionary to keep the calculated average horsepower we will calculate in a for-loop over the dictionary from Step 3.\n",
    "    - HINT: Use another (nested) for-loop inside the for-loop to sum up the horsepowers."
   ]
  },
  {
   "cell_type": "code",
   "execution_count": null,
   "id": "b7ad69ef",
   "metadata": {},
   "outputs": [],
   "source": [
    "import urllib.request\n",
    "import csv"
   ]
  },
  {
   "cell_type": "code",
   "execution_count": null,
   "id": "5d6504cb",
   "metadata": {},
   "outputs": [],
   "source": [
    "remote_file = \"https://raw.githubusercontent.com/LearnPythonWithRune/LearnPython/main/colab/files/cars.csv\"\n",
    "\n",
    "with urllib.request.urlopen(remote_file) as f:\n",
    "    csv_reader = csv.DictReader(f.read().decode().split('\\n'))\n",
    "    cars = list(csv_reader)"
   ]
  },
  {
   "cell_type": "code",
   "execution_count": null,
   "id": "6cd92f51",
   "metadata": {},
   "outputs": [],
   "source": []
  },
  {
   "cell_type": "code",
   "execution_count": null,
   "id": "cbd23065",
   "metadata": {},
   "outputs": [],
   "source": []
  },
  {
   "cell_type": "code",
   "execution_count": null,
   "id": "ace9e391",
   "metadata": {},
   "outputs": [],
   "source": []
  },
  {
   "cell_type": "code",
   "execution_count": null,
   "id": "a7459158",
   "metadata": {},
   "outputs": [],
   "source": []
  }
 ],
 "metadata": {
  "language_info": {
   "name": "python"
  }
 },
 "nbformat": 4,
 "nbformat_minor": 5
}
