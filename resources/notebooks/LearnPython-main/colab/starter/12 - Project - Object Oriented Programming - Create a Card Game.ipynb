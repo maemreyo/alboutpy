{
 "cells": [
  {
   "cell_type": "markdown",
   "id": "985fa2d6",
   "metadata": {},
   "source": [
    "<a \n",
    " href=\"https://colab.research.google.com/github/LearnPythonWithRune/LearnPython/blob/main/colab/starter/12 - Project - Object Oriented Programming - Create a Card Game.ipynb\"\n",
    " target=\"_parent\">\n",
    "<img \n",
    " src=\"https://colab.research.google.com/assets/colab-badge.svg\"\n",
    "alt=\"Open In Colab\"/>\n",
    "</a>"
   ]
  },
  {
   "cell_type": "markdown",
   "id": "1c945317",
   "metadata": {},
   "source": [
    "# Project - Object-Oriented Programming - Create a Card Game\n",
    "### Goal\n",
    "- Learn basic Object-Oriented Programming\n",
    "- Create a Simple Card Game"
   ]
  },
  {
   "cell_type": "markdown",
   "id": "6fb5e27f",
   "metadata": {},
   "source": [
    "### Classes\n",
    "![Class diagram](img/ClassDiagram.png)"
   ]
  },
  {
   "cell_type": "markdown",
   "id": "f0655485",
   "metadata": {},
   "source": [
    "### Card Game\n",
    "- Create a Deck of cards.\n",
    "- Create 4 players (P1, P2, P3, P4)\n",
    "- Divided all cards to 4 players.\n",
    "- Assume you are P1, print the hand of P1.\n",
    "- The game has 13 rounds:\n",
    "    - Each player plays 1 card.\n",
    "    - The player with highest card wins.\n",
    "    - Update the score for the winning hand.\n",
    "    - Print cards played in round and the winner (with winning card).\n",
    "- After the 13 rounds - print score for all players (P1, P2, P3, P4)."
   ]
  },
  {
   "cell_type": "code",
   "execution_count": null,
   "id": "3b82b88f",
   "metadata": {},
   "outputs": [],
   "source": []
  },
  {
   "cell_type": "code",
   "execution_count": null,
   "id": "de88cff2",
   "metadata": {},
   "outputs": [],
   "source": []
  },
  {
   "cell_type": "code",
   "execution_count": null,
   "id": "317b14e4",
   "metadata": {},
   "outputs": [],
   "source": []
  }
 ],
 "metadata": {},
 "nbformat": 4,
 "nbformat_minor": 5
}
