{
 "cells": [
  {
   "cell_type": "markdown",
   "id": "cc2f76a4",
   "metadata": {},
   "source": [
    "<a \n",
    " href=\"https://colab.research.google.com/github/LearnPythonWithRune/LearnPython/blob/main/colab/starter/08 - Project - Capitals and Frequency Count.ipynb\"\n",
    " target=\"_parent\">\n",
    "<img \n",
    " src=\"https://colab.research.google.com/assets/colab-badge.svg\"\n",
    "alt=\"Open In Colab\"/>\n",
    "</a>"
   ]
  },
  {
   "cell_type": "markdown",
   "id": "cf2c265e",
   "metadata": {},
   "source": [
    "# Project - Capitals and Frequency Count\n",
    "### Goal\n",
    "- Guess a Captial Game\n",
    "- Frequency Count"
   ]
  },
  {
   "cell_type": "markdown",
   "id": "e9b4e2f3",
   "metadata": {},
   "source": [
    "### Description of Guess a Capital Game\n",
    "- Use a dictionary to keep country-capital pairs as key-value.\n",
    "    - {'France': 'Paris', 'Finland': 'Helsinki', 'Sweden': 'Stockholm', 'Denmark': 'Copenhagen'}\n",
    "- Prompt the user 3 times for a capital in a country.\n",
    "- Print the number of correct capitals.\n",
    "- Feel free to print whether answer is correct, and what it is."
   ]
  },
  {
   "cell_type": "code",
   "execution_count": null,
   "id": "6eda36c5",
   "metadata": {},
   "outputs": [],
   "source": []
  },
  {
   "cell_type": "code",
   "execution_count": null,
   "id": "19f0f502",
   "metadata": {},
   "outputs": [],
   "source": []
  },
  {
   "cell_type": "markdown",
   "id": "2eec9dd1",
   "metadata": {},
   "source": [
    "### Description of Frequency Count\n",
    "- Prompt the user for a line of text\n",
    "- Use a dictionary to make frequency count of the letters.\n",
    "- Print the frequencies"
   ]
  },
  {
   "cell_type": "code",
   "execution_count": null,
   "id": "6b992e6f",
   "metadata": {},
   "outputs": [],
   "source": []
  }
 ],
 "metadata": {},
 "nbformat": 4,
 "nbformat_minor": 5
}
