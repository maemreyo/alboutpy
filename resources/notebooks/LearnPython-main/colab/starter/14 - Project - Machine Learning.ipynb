{
 "cells": [
  {
   "cell_type": "markdown",
   "id": "204a308c",
   "metadata": {},
   "source": [
    "<a \n",
    " href=\"https://colab.research.google.com/github/LearnPythonWithRune/LearnPython/blob/main/colab/starter/14 - Project - Machine Learning.ipynb\"\n",
    " target=\"_parent\">\n",
    "<img \n",
    " src=\"https://colab.research.google.com/assets/colab-badge.svg\"\n",
    "alt=\"Open In Colab\"/>\n",
    "</a>"
   ]
  },
  {
   "cell_type": "markdown",
   "id": "680d7123",
   "metadata": {},
   "source": [
    "# Project - Machine Learning\n",
    "### Goal\n",
    "- Implement a Linear Regression Model."
   ]
  },
  {
   "cell_type": "markdown",
   "id": "33f2fbbf",
   "metadata": {},
   "source": [
    "### Description\n",
    "- import numpy as np and import csv\n",
    "- from sklearn.linear_model import LinearRegression\n",
    "- import matplotlib.pyplot as plt with %matplotlib inline\n",
    "- Read the CSV file files/cars.csv as a list of dictionaries\n",
    "- Use list comprehension to get Horsepower and Torque from the CSV data.\n",
    "- Create the lists as NumPy arrays and reshape them.\n",
    "- Create a LinearRegression() model.\n",
    "- Call **fit(.)** with the two reshaped lists.\n",
    "- Call **predict(.)** with the reshaped list of Horsepower.\n",
    "- Create a scatter plot with all the points (Horsepower vs Torque)\n",
    "- Create a line (red) with the prediction result."
   ]
  },
  {
   "cell_type": "code",
   "execution_count": null,
   "id": "106ea067",
   "metadata": {},
   "outputs": [],
   "source": [
    "import numpy as np\n",
    "import urllib.request\n",
    "import urllib\n",
    "from sklearn.linear_model import LinearRegression\n",
    "import matplotlib.pyplot as plt\n",
    "%matplotlib inline "
   ]
  },
  {
   "cell_type": "code",
   "execution_count": null,
   "id": "1060847d",
   "metadata": {},
   "outputs": [],
   "source": [
    "remote_file = \"https://raw.githubusercontent.com/LearnPythonWithRune/LearnPython/main/colab/files/cars.csv\"\n",
    "\n",
    "with urllib.request.urlopen(remote_file) as f:\n",
    "    csv_reader = csv.DictReader(f.read().decode().split('\\n'))\n",
    "    cars = list(csv_reader)\n",
    "cars[0]"
   ]
  },
  {
   "cell_type": "code",
   "execution_count": null,
   "id": "fcbcaba6",
   "metadata": {},
   "outputs": [],
   "source": []
  },
  {
   "cell_type": "code",
   "execution_count": null,
   "id": "675e32b6",
   "metadata": {},
   "outputs": [],
   "source": []
  },
  {
   "cell_type": "code",
   "execution_count": null,
   "id": "3cee9927",
   "metadata": {},
   "outputs": [],
   "source": []
  },
  {
   "cell_type": "code",
   "execution_count": null,
   "id": "00b6eacc",
   "metadata": {},
   "outputs": [],
   "source": []
  },
  {
   "cell_type": "code",
   "execution_count": null,
   "id": "a71ac80b",
   "metadata": {},
   "outputs": [],
   "source": []
  }
 ],
 "metadata": {
  "language_info": {
   "name": "python"
  }
 },
 "nbformat": 4,
 "nbformat_minor": 5
}
