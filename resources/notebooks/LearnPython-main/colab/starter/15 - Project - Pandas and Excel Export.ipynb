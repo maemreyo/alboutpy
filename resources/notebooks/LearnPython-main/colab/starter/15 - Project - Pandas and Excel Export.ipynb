{
 "cells": [
  {
   "cell_type": "markdown",
   "id": "a343bbc2",
   "metadata": {},
   "source": [
    "<a \n",
    " href=\"https://colab.research.google.com/github/LearnPythonWithRune/LearnPython/blob/main/colab/starter/15 - Project - Pandas and Excel Export.ipynb\"\n",
    " target=\"_parent\">\n",
    "<img \n",
    " src=\"https://colab.research.google.com/assets/colab-badge.svg\"\n",
    "alt=\"Open In Colab\"/>\n",
    "</a>"
   ]
  },
  {
   "cell_type": "markdown",
   "id": "9ac725ca",
   "metadata": {},
   "source": [
    "# Project - Pandas and Excel Export\n",
    "### Goal\n",
    "- Learn how to use Pandas DataFrames\n",
    "- Export to Excel spreadsheets"
   ]
  },
  {
   "cell_type": "markdown",
   "id": "e48d8d2d",
   "metadata": {},
   "source": [
    "### Description\n",
    "- import pandas as pd\n",
    "- Read the CSV file files/SalesData.csv with pandas\n",
    "    - Remember to set index_col to Date, delimiter to ';' and parse_dates to True\n",
    "- Group the data by **Sales rep** and sum it\n",
    "- Group the data by month\n",
    "    - HINT: Use pd.Grouper(freq='M')\n",
    "    - HINT: Change the index naming to use month names\n",
    "- Export the data to Excel\n",
    "    - Create an ExcelWriter from Pandas\n",
    "    - Write a sheet with **Sales rep** data create above (remember to set sheet_name)\n",
    "    - Write a sheet with **Monthly** data created above (remember to set sheet_name)\n",
    "- Bonus:\n",
    "    - Create charts column charts for each sheet.\n",
    "    - Use the simple way we created it."
   ]
  },
  {
   "cell_type": "code",
   "execution_count": null,
   "id": "626deb9f",
   "metadata": {},
   "outputs": [],
   "source": [
    "import pandas as pd"
   ]
  },
  {
   "cell_type": "code",
   "execution_count": null,
   "id": "99790af7",
   "metadata": {},
   "outputs": [],
   "source": [
    "data = pd.read_csv('https://raw.githubusercontent.com/LearnPythonWithRune/LearnPython/main/colab/files/SalesData.csv', delimiter=';', parse_dates=True, index_col='Date')"
   ]
  },
  {
   "cell_type": "code",
   "execution_count": null,
   "id": "50f5e71a",
   "metadata": {},
   "outputs": [],
   "source": []
  },
  {
   "cell_type": "code",
   "execution_count": null,
   "id": "6bc0817a",
   "metadata": {},
   "outputs": [],
   "source": []
  },
  {
   "cell_type": "code",
   "execution_count": null,
   "id": "9e54c616",
   "metadata": {},
   "outputs": [],
   "source": []
  },
  {
   "cell_type": "code",
   "execution_count": null,
   "id": "7eaba766",
   "metadata": {},
   "outputs": [],
   "source": []
  },
  {
   "cell_type": "code",
   "execution_count": null,
   "id": "a68b625c",
   "metadata": {},
   "outputs": [],
   "source": []
  },
  {
   "cell_type": "code",
   "execution_count": null,
   "id": "0a4fef39",
   "metadata": {},
   "outputs": [],
   "source": []
  },
  {
   "cell_type": "code",
   "execution_count": null,
   "id": "e8573dc7",
   "metadata": {},
   "outputs": [],
   "source": []
  },
  {
   "cell_type": "code",
   "execution_count": null,
   "id": "5cc9ab17",
   "metadata": {},
   "outputs": [],
   "source": []
  }
 ],
 "metadata": {
  "language_info": {
   "name": "python"
  }
 },
 "nbformat": 4,
 "nbformat_minor": 5
}
