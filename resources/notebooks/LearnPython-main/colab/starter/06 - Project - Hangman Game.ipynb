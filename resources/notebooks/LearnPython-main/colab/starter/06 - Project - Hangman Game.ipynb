{
 "cells": [
  {
   "cell_type": "markdown",
   "id": "ea2cd7b2",
   "metadata": {},
   "source": [
    "<a \n",
    " href=\"https://colab.research.google.com/github/LearnPythonWithRune/LearnPython/blob/main/colab/starter/06 - Project - Hangman Game.ipynb\"\n",
    " target=\"_parent\">\n",
    "<img \n",
    " src=\"https://colab.research.google.com/assets/colab-badge.svg\"\n",
    "alt=\"Open In Colab\"/>\n",
    "</a>"
   ]
  },
  {
   "cell_type": "markdown",
   "id": "2b28aa6c",
   "metadata": {},
   "source": [
    "# Project - Hangman Game\n",
    "### Goal\n",
    "- Create a [Hangman Game](https://en.wikipedia.org/wiki/Hangman_(game))"
   ]
  },
  {
   "cell_type": "markdown",
   "id": "e50c9ce6",
   "metadata": {},
   "source": [
    "### Description\n",
    "- The game is as follows.\n",
    "- Computer has a list of words.\n",
    "- Computer chooses a random word from the list.\n",
    "- The player gets 10 wrong guesses (10 turns).\n",
    "- The game follows this loop\n",
    "    - Computer prints the word character by character replacing with underscore those not guessed yet (initial no characters has been guessed).\n",
    "    - Player guesses a character.\n",
    "    - If character is not in word, a turn is withdrawn\n",
    "    - If no turns left, computer wins.\n",
    "    - If player has guessed all characters, player wins\n",
    "- An initial word list could be: ['father', 'enterprise', 'science', 'programming', 'resistance', 'fiction', 'condition', 'reverse', 'computer', 'python']"
   ]
  },
  {
   "cell_type": "code",
   "execution_count": null,
   "id": "6cd76d67",
   "metadata": {},
   "outputs": [],
   "source": []
  },
  {
   "cell_type": "code",
   "execution_count": null,
   "id": "7f6a0a82",
   "metadata": {},
   "outputs": [],
   "source": []
  }
 ],
 "metadata": {},
 "nbformat": 4,
 "nbformat_minor": 5
}
