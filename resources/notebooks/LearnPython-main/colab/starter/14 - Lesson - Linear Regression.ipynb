{
 "cells": [
  {
   "cell_type": "markdown",
   "id": "50598e9d",
   "metadata": {},
   "source": [
    "<a \n",
    " href=\"https://colab.research.google.com/github/LearnPythonWithRune/LearnPython/blob/main/colab/starter/14 - Lesson - Linear Regression.ipynb\"\n",
    " target=\"_parent\">\n",
    "<img \n",
    " src=\"https://colab.research.google.com/assets/colab-badge.svg\"\n",
    "alt=\"Open In Colab\"/>\n",
    "</a>"
   ]
  },
  {
   "cell_type": "markdown",
   "id": "c45e9c25",
   "metadata": {},
   "source": [
    "# Linear Regression\n",
    "### Goal\n",
    "- Learn how Machine Learning is different from classical computing.\n",
    "- Understand Machine Learning on a high level.\n",
    "- Learn some NumPy basics\n",
    "- Get the foundation with Linear Regression\n",
    "- Get ready to apply it on real data"
   ]
  },
  {
   "cell_type": "markdown",
   "id": "f9a279a4",
   "metadata": {},
   "source": [
    "### What is Machine Learning?\n",
    "![Machine Learning](img/MachineLearning.png)\n",
    "- In the **classical computing model** every thing is programmed into the algorithms. This has the limitation that all decision logic need to be understood before usage. And if things change, we need to modify the program.\n",
    "- With the **modern computing model (Machine Learning)** this paradigm is changes. We feed the algorithms with data, and based on that data, we do the decisions in the program."
   ]
  },
  {
   "cell_type": "markdown",
   "id": "26b6453b",
   "metadata": {},
   "source": [
    "### How Machine Learning Works\n",
    "- On a high level you can divide Machine Learning into two phases.\n",
    "    - **Phase 1**: Learning\n",
    "    - **Phase 2**: Prediction\n",
    "- The learing phase (Phase 1) can be divided into substeps.\n",
    "![Learning Phase](img/LearningPhase.png)\n",
    "- It all starts with a training set (training data). This data set should represent the type of data that the Machine Learn model should be used to predict from in Phase 2 (predction).\n",
    "- The pre-processing step is about cleaning up data. While the Machine Learning is awesome, it cannot figure out what good data looks like. You need to do the cleaning as well as transforming data into a desired format.\n",
    "- Then for the magic, the learning step. There are three main paradigms in machine learning.\n",
    "    - **Supervised**: where you tell the algorithm what categories each data item is in. Each data item from the training set is tagged with the right answer.\n",
    "    - **Unsupervised**: is when the learning algorithm is not told what to do with it and it should make the structure itself.\n",
    "    - **Reinforcement**: teaches the machine to think for itself based on past action rewards.\n",
    "- Finally, the testing is done to see if the model is good. The training data was divided into a test set and training set. The test set is used to see if the model can predict from it. If not, a new model might be necessary.\n",
    "\n",
    "Then the **prediction** begins."
   ]
  },
  {
   "cell_type": "code",
   "execution_count": null,
   "id": "95f8375f",
   "metadata": {},
   "outputs": [],
   "source": []
  },
  {
   "cell_type": "code",
   "execution_count": null,
   "id": "c4c1cdf3",
   "metadata": {},
   "outputs": [],
   "source": []
  },
  {
   "cell_type": "code",
   "execution_count": null,
   "id": "ce93a204",
   "metadata": {},
   "outputs": [],
   "source": []
  },
  {
   "cell_type": "code",
   "execution_count": null,
   "id": "c4945e7a",
   "metadata": {},
   "outputs": [],
   "source": []
  },
  {
   "cell_type": "code",
   "execution_count": null,
   "id": "94e9e990",
   "metadata": {},
   "outputs": [],
   "source": []
  },
  {
   "cell_type": "code",
   "execution_count": null,
   "id": "1c0a7237",
   "metadata": {},
   "outputs": [],
   "source": []
  },
  {
   "cell_type": "code",
   "execution_count": null,
   "id": "2ffd224d",
   "metadata": {},
   "outputs": [],
   "source": []
  },
  {
   "cell_type": "code",
   "execution_count": null,
   "id": "3a2917d3",
   "metadata": {},
   "outputs": [],
   "source": []
  },
  {
   "cell_type": "code",
   "execution_count": null,
   "id": "264874b5",
   "metadata": {},
   "outputs": [],
   "source": []
  },
  {
   "cell_type": "code",
   "execution_count": null,
   "id": "b0f4baa5",
   "metadata": {},
   "outputs": [],
   "source": []
  },
  {
   "cell_type": "code",
   "execution_count": null,
   "id": "7c80297e",
   "metadata": {},
   "outputs": [],
   "source": []
  },
  {
   "cell_type": "code",
   "execution_count": null,
   "id": "296630b4",
   "metadata": {},
   "outputs": [],
   "source": []
  },
  {
   "cell_type": "code",
   "execution_count": null,
   "id": "96d06a76",
   "metadata": {},
   "outputs": [],
   "source": []
  },
  {
   "cell_type": "code",
   "execution_count": null,
   "id": "d686b91e",
   "metadata": {},
   "outputs": [],
   "source": []
  },
  {
   "cell_type": "code",
   "execution_count": null,
   "id": "720b41ea",
   "metadata": {},
   "outputs": [],
   "source": []
  },
  {
   "cell_type": "code",
   "execution_count": null,
   "id": "d2965c19",
   "metadata": {},
   "outputs": [],
   "source": []
  },
  {
   "cell_type": "code",
   "execution_count": null,
   "id": "51164085",
   "metadata": {},
   "outputs": [],
   "source": []
  },
  {
   "cell_type": "code",
   "execution_count": null,
   "id": "61bcdd04",
   "metadata": {},
   "outputs": [],
   "source": []
  }
 ],
 "metadata": {},
 "nbformat": 4,
 "nbformat_minor": 5
}
