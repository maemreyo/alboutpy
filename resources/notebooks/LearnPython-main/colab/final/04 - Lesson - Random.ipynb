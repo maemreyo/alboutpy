{
 "cells": [
  {
   "cell_type": "markdown",
   "id": "f0980aee",
   "metadata": {},
   "source": [
    "<a \n",
    " href=\"https://colab.research.google.com/github/LearnPythonWithRune/LearnPython/blob/main/colab/final/04 - Lesson - Random.ipynb\"\n",
    " target=\"_parent\">\n",
    "<img \n",
    " src=\"https://colab.research.google.com/assets/colab-badge.svg\"\n",
    "alt=\"Open In Colab\"/>\n",
    "</a>"
   ]
  },
  {
   "cell_type": "markdown",
   "id": "cc6004b2",
   "metadata": {},
   "source": [
    "# Random\n",
    "### Goal\n",
    "- Learn to use Random\n",
    "- This enables us to create simple games"
   ]
  },
  {
   "cell_type": "code",
   "execution_count": 1,
   "id": "0b81f46c",
   "metadata": {},
   "outputs": [],
   "source": [
    "import random"
   ]
  },
  {
   "cell_type": "code",
   "execution_count": 2,
   "id": "661fff37",
   "metadata": {},
   "outputs": [
    {
     "data": {
      "text/plain": [
       "2"
      ]
     },
     "execution_count": 2,
     "metadata": {},
     "output_type": "execute_result"
    }
   ],
   "source": [
    "random.randint(1, 6)"
   ]
  },
  {
   "cell_type": "code",
   "execution_count": 3,
   "id": "30fc7f05",
   "metadata": {},
   "outputs": [],
   "source": [
    "a = random.randint(1, 6)"
   ]
  },
  {
   "cell_type": "code",
   "execution_count": 4,
   "id": "de7ae420",
   "metadata": {},
   "outputs": [
    {
     "data": {
      "text/plain": [
       "6"
      ]
     },
     "execution_count": 4,
     "metadata": {},
     "output_type": "execute_result"
    }
   ],
   "source": [
    "a"
   ]
  },
  {
   "cell_type": "code",
   "execution_count": 5,
   "id": "658db02a",
   "metadata": {},
   "outputs": [
    {
     "data": {
      "text/plain": [
       "0.3829013889032775"
      ]
     },
     "execution_count": 5,
     "metadata": {},
     "output_type": "execute_result"
    }
   ],
   "source": [
    "random.uniform(0, 1)"
   ]
  },
  {
   "cell_type": "code",
   "execution_count": 6,
   "id": "bf206e6c",
   "metadata": {},
   "outputs": [
    {
     "data": {
      "text/plain": [
       "0.5194312539908772"
      ]
     },
     "execution_count": 6,
     "metadata": {},
     "output_type": "execute_result"
    }
   ],
   "source": [
    "random.gauss(0, 1)"
   ]
  }
 ],
 "metadata": {},
 "nbformat": 4,
 "nbformat_minor": 5
}
