{
 "cells": [
  {
   "cell_type": "markdown",
   "id": "7bfa00f8",
   "metadata": {},
   "source": [
    "<a \n",
    " href=\"https://colab.research.google.com/github/LearnPythonWithRune/LearnPython/blob/main/colab/final/11 - Project - List and Dict Comprehension.ipynb\"\n",
    " target=\"_parent\">\n",
    "<img \n",
    " src=\"https://colab.research.google.com/assets/colab-badge.svg\"\n",
    "alt=\"Open In Colab\"/>\n",
    "</a>"
   ]
  },
  {
   "cell_type": "markdown",
   "id": "e1bfe1d4",
   "metadata": {},
   "source": [
    "# Project - List and Dict Comprehension\n",
    "### Goal\n",
    "- Learn to use list and dict comprehension"
   ]
  },
  {
   "cell_type": "markdown",
   "id": "9e69fe36",
   "metadata": {},
   "source": [
    "### Description\n",
    "- Redo some of our code"
   ]
  },
  {
   "cell_type": "markdown",
   "id": "54ae2d60",
   "metadata": {},
   "source": [
    "### Encrypt with List Comprehension\n",
    "- Use **encrypt_char** and list comprehension to encrypt a string (\"you are awesome\").\n",
    "- HINT: You can use join(.)"
   ]
  },
  {
   "cell_type": "code",
   "execution_count": 1,
   "id": "b0e26a29",
   "metadata": {},
   "outputs": [],
   "source": [
    "def encrypt_char(char, key):\n",
    "    return chr(ord('A') + (ord(char) - ord('A') + key) %26)"
   ]
  },
  {
   "cell_type": "code",
   "execution_count": 2,
   "id": "f329dc62",
   "metadata": {},
   "outputs": [
    {
     "data": {
      "text/plain": [
       "'B'"
      ]
     },
     "execution_count": 2,
     "metadata": {},
     "output_type": "execute_result"
    }
   ],
   "source": [
    "encrypt_char('Y', 3)"
   ]
  },
  {
   "cell_type": "code",
   "execution_count": 3,
   "id": "918d663c",
   "metadata": {},
   "outputs": [
    {
     "data": {
      "text/plain": [
       "'BRX DUH DZHVRPH'"
      ]
     },
     "execution_count": 3,
     "metadata": {},
     "output_type": "execute_result"
    }
   ],
   "source": [
    "message = 'You are awesome'\n",
    "key = 3\n",
    "cipher_list = [encrypt_char(c,key) \n",
    "                            if c not in ' ' else c \n",
    "                                for c in message.upper()]\n",
    "crypted_message = ''.join(cipher_list)\n",
    "crypted_message"
   ]
  },
  {
   "cell_type": "markdown",
   "id": "a4fdd47e",
   "metadata": {},
   "source": [
    "### Decrypt with List Comprehension\n",
    "- Use **decrypt_char** and list comprehension to decrypt the cipher."
   ]
  },
  {
   "cell_type": "code",
   "execution_count": 4,
   "id": "a98bcebe",
   "metadata": {},
   "outputs": [],
   "source": [
    "def decrypt_char(char, key):\n",
    "    return encrypt_char(char, 26 - key)"
   ]
  },
  {
   "cell_type": "code",
   "execution_count": 5,
   "id": "77e284b4",
   "metadata": {},
   "outputs": [
    {
     "data": {
      "text/plain": [
       "'YOU ARE AWESOME'"
      ]
     },
     "execution_count": 5,
     "metadata": {},
     "output_type": "execute_result"
    }
   ],
   "source": [
    "cipher = 'BRX DUH DZHVRPH'\n",
    "key = 3\n",
    "message_list = [decrypt_char(c, key) \n",
    "                    if c not in ' ' else c for c in cipher]\n",
    "message = ''.join(message_list)\n",
    "message"
   ]
  },
  {
   "cell_type": "markdown",
   "id": "d2fc74da",
   "metadata": {},
   "source": [
    "### Use Dict Comprehension for Frequency Count\n",
    "- Prompt the user for a line of text.\n",
    "- Use dict comprehension to count the number of occurences of each characerter.\n",
    "- Example: \"aabbccccc\" should give {'a': 2, 'b': 2, 'c': 5}\n",
    "- HINT: using count('a') on a string will return the number of occurences of 'a'."
   ]
  },
  {
   "cell_type": "code",
   "execution_count": 6,
   "id": "ff0243f9",
   "metadata": {},
   "outputs": [
    {
     "data": {
      "text/plain": [
       "{'a': 2, 'b': 2, 'c': 4}"
      ]
     },
     "execution_count": 6,
     "metadata": {},
     "output_type": "execute_result"
    }
   ],
   "source": [
    "text = input('Input line of text: ')\n",
    "{c: text.count(c) for c in text}"
   ]
  },
  {
   "cell_type": "code",
   "execution_count": 7,
   "id": "95273644",
   "metadata": {},
   "outputs": [
    {
     "data": {
      "text/plain": [
       "{'c': 4, 'a': 2, 'b': 2}"
      ]
     },
     "execution_count": 7,
     "metadata": {},
     "output_type": "execute_result"
    }
   ],
   "source": [
    "text = input('Input line of text: ')\n",
    "{c: text.count(c) for c in set(text)}"
   ]
  }
 ],
 "metadata": {},
 "nbformat": 4,
 "nbformat_minor": 5
}
