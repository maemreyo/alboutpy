{
 "cells": [
  {
   "cell_type": "markdown",
   "id": "aa80898b",
   "metadata": {},
   "source": [
    "<a \n",
    " href=\"https://colab.research.google.com/github/LearnPythonWithRune/LearnPython/blob/main/colab/final/02 - Lesson - Type Conversion.ipynb\"\n",
    " target=\"_parent\">\n",
    "<img \n",
    " src=\"https://colab.research.google.com/assets/colab-badge.svg\"\n",
    "alt=\"Open In Colab\"/>\n",
    "</a>"
   ]
  },
  {
   "cell_type": "markdown",
   "id": "441e0eb5",
   "metadata": {},
   "source": [
    "# Type Conversion\n",
    "- More about formatted strings\n",
    "- Types are not the same\n",
    "- Convert them with **int(), float(), str()**"
   ]
  },
  {
   "cell_type": "code",
   "execution_count": 1,
   "id": "b289edcc",
   "metadata": {},
   "outputs": [
    {
     "name": "stdout",
     "output_type": "stream",
     "text": [
      "Hello Rune!\n",
      "You were born in 1990.\n"
     ]
    }
   ],
   "source": [
    "name = input(\"What is your name? \")\n",
    "print(f\"Hello {name}!\")\n",
    "birth_year = input(\"What is your birht year? \")\n",
    "print(f\"You were born in {birth_year}.\")"
   ]
  },
  {
   "cell_type": "code",
   "execution_count": null,
   "id": "8450aa3c",
   "metadata": {},
   "outputs": [],
   "source": [
    "name = input(\"What is your name? \")\n",
    "print(f\"Hello {name}!\")\n",
    "birth_year = input(\"What is your birht year? \")\n",
    "print(f\"You are {2021 - birth_year} old!\")"
   ]
  },
  {
   "cell_type": "code",
   "execution_count": 3,
   "id": "abe873ec",
   "metadata": {},
   "outputs": [
    {
     "data": {
      "text/plain": [
       "str"
      ]
     },
     "execution_count": 3,
     "metadata": {},
     "output_type": "execute_result"
    }
   ],
   "source": [
    "type(birth_year)"
   ]
  },
  {
   "cell_type": "code",
   "execution_count": 4,
   "id": "3fa492c8",
   "metadata": {},
   "outputs": [
    {
     "data": {
      "text/plain": [
       "1990"
      ]
     },
     "execution_count": 4,
     "metadata": {},
     "output_type": "execute_result"
    }
   ],
   "source": [
    "int(birth_year)"
   ]
  },
  {
   "cell_type": "code",
   "execution_count": 5,
   "id": "eae7b457",
   "metadata": {},
   "outputs": [
    {
     "name": "stdout",
     "output_type": "stream",
     "text": [
      "Hello Rune!\n",
      "You are 31 old!\n"
     ]
    }
   ],
   "source": [
    "name = input(\"What is your name? \")\n",
    "print(f\"Hello {name}!\")\n",
    "birth_year = input(\"What is your birht year? \")\n",
    "birth_year = int(birth_year)\n",
    "print(f\"You are {2021 - birth_year} old!\")"
   ]
  },
  {
   "cell_type": "code",
   "execution_count": 6,
   "id": "a8790775",
   "metadata": {},
   "outputs": [
    {
     "data": {
      "text/plain": [
       "30"
      ]
     },
     "execution_count": 6,
     "metadata": {},
     "output_type": "execute_result"
    }
   ],
   "source": [
    "int(\"30\")"
   ]
  },
  {
   "cell_type": "code",
   "execution_count": 7,
   "id": "e4eb80fb",
   "metadata": {},
   "outputs": [
    {
     "data": {
      "text/plain": [
       "-4"
      ]
     },
     "execution_count": 7,
     "metadata": {},
     "output_type": "execute_result"
    }
   ],
   "source": [
    "int(\" -4\")"
   ]
  },
  {
   "cell_type": "code",
   "execution_count": 8,
   "id": "bbe3fdfe",
   "metadata": {},
   "outputs": [
    {
     "data": {
      "text/plain": [
       "2.0"
      ]
     },
     "execution_count": 8,
     "metadata": {},
     "output_type": "execute_result"
    }
   ],
   "source": [
    "float(\"2\")"
   ]
  },
  {
   "cell_type": "code",
   "execution_count": 9,
   "id": "de70aff0",
   "metadata": {},
   "outputs": [
    {
     "data": {
      "text/plain": [
       "3.14"
      ]
     },
     "execution_count": 9,
     "metadata": {},
     "output_type": "execute_result"
    }
   ],
   "source": [
    "float(\"3.14\")"
   ]
  },
  {
   "cell_type": "code",
   "execution_count": 10,
   "id": "0c866810",
   "metadata": {},
   "outputs": [
    {
     "data": {
      "text/plain": [
       "3.0"
      ]
     },
     "execution_count": 10,
     "metadata": {},
     "output_type": "execute_result"
    }
   ],
   "source": [
    "float(3)"
   ]
  },
  {
   "cell_type": "code",
   "execution_count": 11,
   "id": "d5ce4c0e",
   "metadata": {},
   "outputs": [],
   "source": [
    "s = \"This is a string\"\n",
    "i = 7"
   ]
  },
  {
   "cell_type": "code",
   "execution_count": null,
   "id": "30373c4f",
   "metadata": {},
   "outputs": [],
   "source": [
    "s + i"
   ]
  },
  {
   "cell_type": "code",
   "execution_count": 13,
   "id": "03a6ac94",
   "metadata": {},
   "outputs": [
    {
     "data": {
      "text/plain": [
       "'This is a string7'"
      ]
     },
     "execution_count": 13,
     "metadata": {},
     "output_type": "execute_result"
    }
   ],
   "source": [
    "s + str(i)"
   ]
  }
 ],
 "metadata": {},
 "nbformat": 4,
 "nbformat_minor": 5
}
