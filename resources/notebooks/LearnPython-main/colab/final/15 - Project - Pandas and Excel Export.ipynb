{
 "cells": [
  {
   "cell_type": "markdown",
   "id": "d5c340d4",
   "metadata": {},
   "source": [
    "<a \n",
    " href=\"https://colab.research.google.com/github/LearnPythonWithRune/LearnPython/blob/main/colab/final/15 - Project - Pandas and Excel Export.ipynb\"\n",
    " target=\"_parent\">\n",
    "<img \n",
    " src=\"https://colab.research.google.com/assets/colab-badge.svg\"\n",
    "alt=\"Open In Colab\"/>\n",
    "</a>"
   ]
  },
  {
   "cell_type": "markdown",
   "id": "6ad3ef05",
   "metadata": {},
   "source": [
    "# Project - Pandas and Excel Export\n",
    "### Goal\n",
    "- Learn how to use Pandas DataFrames\n",
    "- Export to Excel spreadsheets"
   ]
  },
  {
   "cell_type": "markdown",
   "id": "7a5b9b16",
   "metadata": {},
   "source": [
    "### Description\n",
    "- import pandas as pd\n",
    "- Read the CSV file files/SalesData.csv with pandas\n",
    "    - Remember to set index_col to Date, delimiter to ';' and parse_dates to True\n",
    "- Group the data by **Sales rep** and sum it\n",
    "- Group the data by month\n",
    "    - HINT: Use pd.Grouper(freq='M')\n",
    "    - HINT: Change the index naming to use month names\n",
    "- Export the data to Excel\n",
    "    - Create an ExcelWriter from Pandas\n",
    "    - Write a sheet with **Sales rep** data create above (remember to set sheet_name)\n",
    "    - Write a sheet with **Monthly** data created above (remember to set sheet_name)\n",
    "- Bonus:\n",
    "    - Create charts column charts for each sheet.\n",
    "    - Use the simple way we created it."
   ]
  },
  {
   "cell_type": "code",
   "execution_count": 2,
   "id": "96b12492",
   "metadata": {},
   "outputs": [],
   "source": [
    "import pandas as pd"
   ]
  },
  {
   "cell_type": "code",
   "execution_count": 3,
   "id": "9638311d",
   "metadata": {},
   "outputs": [],
   "source": [
    "data = pd.read_csv('https://raw.githubusercontent.com/LearnPythonWithRune/LearnPython/main/colab/files/SalesData.csv', delimiter=';', parse_dates=True, index_col='Date')"
   ]
  },
  {
   "cell_type": "code",
   "execution_count": 4,
   "id": "60032382",
   "metadata": {},
   "outputs": [
    {
     "data": {
      "text/html": [
       "<div>\n",
       "<style scoped>\n",
       "    .dataframe tbody tr th:only-of-type {\n",
       "        vertical-align: middle;\n",
       "    }\n",
       "\n",
       "    .dataframe tbody tr th {\n",
       "        vertical-align: top;\n",
       "    }\n",
       "\n",
       "    .dataframe thead th {\n",
       "        text-align: right;\n",
       "    }\n",
       "</style>\n",
       "<table border=\"1\" class=\"dataframe\">\n",
       "  <thead>\n",
       "    <tr style=\"text-align: right;\">\n",
       "      <th></th>\n",
       "      <th>Sales rep</th>\n",
       "      <th>Item</th>\n",
       "      <th>Price</th>\n",
       "      <th>Quantity</th>\n",
       "      <th>Sale</th>\n",
       "    </tr>\n",
       "    <tr>\n",
       "      <th>Date</th>\n",
       "      <th></th>\n",
       "      <th></th>\n",
       "      <th></th>\n",
       "      <th></th>\n",
       "      <th></th>\n",
       "    </tr>\n",
       "  </thead>\n",
       "  <tbody>\n",
       "    <tr>\n",
       "      <th>2020-05-31</th>\n",
       "      <td>Mia</td>\n",
       "      <td>Markers</td>\n",
       "      <td>4</td>\n",
       "      <td>1</td>\n",
       "      <td>4</td>\n",
       "    </tr>\n",
       "    <tr>\n",
       "      <th>2020-02-01</th>\n",
       "      <td>Mia</td>\n",
       "      <td>Desk chair</td>\n",
       "      <td>199</td>\n",
       "      <td>2</td>\n",
       "      <td>398</td>\n",
       "    </tr>\n",
       "    <tr>\n",
       "      <th>2020-09-21</th>\n",
       "      <td>Oliver</td>\n",
       "      <td>Table</td>\n",
       "      <td>1099</td>\n",
       "      <td>2</td>\n",
       "      <td>2198</td>\n",
       "    </tr>\n",
       "    <tr>\n",
       "      <th>2020-07-15</th>\n",
       "      <td>Charlotte</td>\n",
       "      <td>Desk pad</td>\n",
       "      <td>9</td>\n",
       "      <td>2</td>\n",
       "      <td>18</td>\n",
       "    </tr>\n",
       "    <tr>\n",
       "      <th>2020-05-27</th>\n",
       "      <td>Emma</td>\n",
       "      <td>Book</td>\n",
       "      <td>12</td>\n",
       "      <td>1</td>\n",
       "      <td>12</td>\n",
       "    </tr>\n",
       "    <tr>\n",
       "      <th>...</th>\n",
       "      <td>...</td>\n",
       "      <td>...</td>\n",
       "      <td>...</td>\n",
       "      <td>...</td>\n",
       "      <td>...</td>\n",
       "    </tr>\n",
       "    <tr>\n",
       "      <th>2020-02-28</th>\n",
       "      <td>Oliver</td>\n",
       "      <td>Desk chair</td>\n",
       "      <td>199</td>\n",
       "      <td>5</td>\n",
       "      <td>995</td>\n",
       "    </tr>\n",
       "    <tr>\n",
       "      <th>2020-10-01</th>\n",
       "      <td>Sophia</td>\n",
       "      <td>Table</td>\n",
       "      <td>1099</td>\n",
       "      <td>4</td>\n",
       "      <td>4396</td>\n",
       "    </tr>\n",
       "    <tr>\n",
       "      <th>2020-07-28</th>\n",
       "      <td>Sophia</td>\n",
       "      <td>Book</td>\n",
       "      <td>12</td>\n",
       "      <td>1</td>\n",
       "      <td>12</td>\n",
       "    </tr>\n",
       "    <tr>\n",
       "      <th>2020-06-21</th>\n",
       "      <td>Liam</td>\n",
       "      <td>Pen</td>\n",
       "      <td>3</td>\n",
       "      <td>4</td>\n",
       "      <td>12</td>\n",
       "    </tr>\n",
       "    <tr>\n",
       "      <th>2020-01-26</th>\n",
       "      <td>Noah</td>\n",
       "      <td>Desk chair</td>\n",
       "      <td>199</td>\n",
       "      <td>5</td>\n",
       "      <td>995</td>\n",
       "    </tr>\n",
       "  </tbody>\n",
       "</table>\n",
       "<p>1000 rows × 5 columns</p>\n",
       "</div>"
      ],
      "text/plain": [
       "            Sales rep        Item  Price  Quantity  Sale\n",
       "Date                                                    \n",
       "2020-05-31        Mia     Markers      4         1     4\n",
       "2020-02-01        Mia  Desk chair    199         2   398\n",
       "2020-09-21     Oliver       Table   1099         2  2198\n",
       "2020-07-15  Charlotte    Desk pad      9         2    18\n",
       "2020-05-27       Emma        Book     12         1    12\n",
       "...               ...         ...    ...       ...   ...\n",
       "2020-02-28     Oliver  Desk chair    199         5   995\n",
       "2020-10-01     Sophia       Table   1099         4  4396\n",
       "2020-07-28     Sophia        Book     12         1    12\n",
       "2020-06-21       Liam         Pen      3         4    12\n",
       "2020-01-26       Noah  Desk chair    199         5   995\n",
       "\n",
       "[1000 rows x 5 columns]"
      ]
     },
     "execution_count": 4,
     "metadata": {},
     "output_type": "execute_result"
    }
   ],
   "source": [
    "data"
   ]
  },
  {
   "cell_type": "code",
   "execution_count": 4,
   "id": "01ebe7ec",
   "metadata": {},
   "outputs": [
    {
     "data": {
      "text/plain": [
       "Sales rep    object\n",
       "Item         object\n",
       "Price         int64\n",
       "Quantity      int64\n",
       "Sale          int64\n",
       "dtype: object"
      ]
     },
     "execution_count": 4,
     "metadata": {},
     "output_type": "execute_result"
    }
   ],
   "source": [
    "data.dtypes"
   ]
  },
  {
   "cell_type": "code",
   "execution_count": 5,
   "id": "4cc3e5bf",
   "metadata": {},
   "outputs": [
    {
     "name": "stdout",
     "output_type": "stream",
     "text": [
      "<class 'pandas.core.frame.DataFrame'>\n",
      "DatetimeIndex: 1000 entries, 2020-05-31 to 2020-01-26\n",
      "Data columns (total 5 columns):\n",
      " #   Column     Non-Null Count  Dtype \n",
      "---  ------     --------------  ----- \n",
      " 0   Sales rep  1000 non-null   object\n",
      " 1   Item       1000 non-null   object\n",
      " 2   Price      1000 non-null   int64 \n",
      " 3   Quantity   1000 non-null   int64 \n",
      " 4   Sale       1000 non-null   int64 \n",
      "dtypes: int64(3), object(2)\n",
      "memory usage: 46.9+ KB\n"
     ]
    }
   ],
   "source": [
    "data.info()"
   ]
  },
  {
   "cell_type": "code",
   "execution_count": 6,
   "id": "c0ed2647",
   "metadata": {},
   "outputs": [],
   "source": [
    "reps_sales = data.groupby('Sales rep').sum()['Sale']"
   ]
  },
  {
   "cell_type": "code",
   "execution_count": 7,
   "id": "31b7255a",
   "metadata": {},
   "outputs": [],
   "source": [
    "monthly_sale = data.groupby(pd.Grouper(freq='M')).sum()['Sale']\n",
    "monthly_sale.index = monthly_sale.index.month_name()"
   ]
  },
  {
   "cell_type": "code",
   "execution_count": 8,
   "id": "eff90402",
   "metadata": {},
   "outputs": [
    {
     "data": {
      "text/plain": [
       "Date\n",
       "January      69990\n",
       "February     51847\n",
       "March        67500\n",
       "April        58401\n",
       "May          40319\n",
       "June         59397\n",
       "July         64251\n",
       "August       51571\n",
       "September    55666\n",
       "October      50093\n",
       "November     57458\n",
       "December     61941\n",
       "Name: Sale, dtype: int64"
      ]
     },
     "execution_count": 8,
     "metadata": {},
     "output_type": "execute_result"
    }
   ],
   "source": [
    "monthly_sale"
   ]
  },
  {
   "cell_type": "code",
   "execution_count": 9,
   "id": "5bae54ae",
   "metadata": {},
   "outputs": [],
   "source": [
    "workbook = pd.ExcelWriter('SalesReport.xlsx')\n",
    "reps_sales.to_excel(workbook, sheet_name='Sales per rep')\n",
    "monthly_sale.to_excel(workbook, sheet_name='Monthly')\n",
    "workbook.close()"
   ]
  },
  {
   "cell_type": "code",
   "execution_count": 10,
   "id": "1127a0eb",
   "metadata": {},
   "outputs": [],
   "source": [
    "workbook = pd.ExcelWriter('SalesReport.xlsx')\n",
    "reps_sales.to_excel(workbook, sheet_name='Sales per rep')\n",
    "monthly_sale.to_excel(workbook, sheet_name='Monthly')\n",
    "\n",
    "chart1 = workbook.book.add_chart({'type': 'column'})\n",
    "\n",
    "# Configure the first series.abs\n",
    "chart1.add_series({\n",
    "    'name': 'Sales per rep',\n",
    "    'categories': \"='Sales per rep'!$A$2:$A$10\",\n",
    "    'values': \"='Sales per rep'!$B$2:$B$10\",\n",
    "\n",
    "})\n",
    "\n",
    "workbook.sheets['Sales per rep'].insert_chart('D2', chart1)\n",
    "\n",
    "\n",
    "chart1 = workbook.book.add_chart({'type': 'column'})\n",
    "\n",
    "# Configure the first series.abs\n",
    "chart1.add_series({\n",
    "    'name': 'Monthly sales',\n",
    "    'categories': '=Monthly!$A$2:$A$13',\n",
    "    'values': '=Monthly!$B$2:$B$13',\n",
    "\n",
    "})\n",
    "\n",
    "workbook.sheets['Monthly'].insert_chart('D2', chart1)\n",
    "\n",
    "workbook.close()"
   ]
  }
 ],
 "metadata": {
  "language_info": {
   "name": "python"
  }
 },
 "nbformat": 4,
 "nbformat_minor": 5
}
