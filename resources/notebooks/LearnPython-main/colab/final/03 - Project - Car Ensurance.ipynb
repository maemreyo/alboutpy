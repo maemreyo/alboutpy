{
 "cells": [
  {
   "cell_type": "markdown",
   "id": "1825bb5f",
   "metadata": {},
   "source": [
    "<a \n",
    " href=\"https://colab.research.google.com/github/LearnPythonWithRune/LearnPython/blob/main/colab/final/03 - Project - Car Ensurance.ipynb\"\n",
    " target=\"_parent\">\n",
    "<img \n",
    " src=\"https://colab.research.google.com/assets/colab-badge.svg\"\n",
    "alt=\"Open In Colab\"/>\n",
    "</a>"
   ]
  },
  {
   "cell_type": "markdown",
   "id": "38488d3d",
   "metadata": {},
   "source": [
    "# Project - Car Ensurance\n",
    "### Goal\n",
    "- Car ensurance calculation based on the following decision tree"
   ]
  },
  {
   "cell_type": "markdown",
   "id": "b777618f",
   "metadata": {},
   "source": [
    "![alt text](img/DecisionTree.png \"Title\")"
   ]
  },
  {
   "cell_type": "markdown",
   "id": "e65b8621",
   "metadata": {},
   "source": [
    "### Description\n",
    "- This is a fictional car insurance company called Car Crash\n",
    "- They calculate the yearly ensurance price based on the current market price of the car\n",
    "- Given the market price: market_price\n",
    "- Then the yearly ensurance price is 9% of the market_price if it is a male above 26 years old.\n",
    "- As we see in the decision tree, we have 4 possible price calculations.\n",
    "- Create a program, which takes input and based on that calculated the correct price for all 4 cases"
   ]
  },
  {
   "cell_type": "code",
   "execution_count": 6,
   "id": "d276069d",
   "metadata": {},
   "outputs": [
    {
     "name": "stdout",
     "output_type": "stream",
     "text": [
      "Male\n",
      "More than 26\n",
      "Ensurance offer: 900.0\n"
     ]
    }
   ],
   "source": [
    "gender = input(\"What is your gender (M/F): \")\n",
    "gender = gender.upper()\n",
    "if gender == 'M':\n",
    "    print(\"Male\")\n",
    "    age = input(\"What is your age? \")\n",
    "    age = int(age)\n",
    "    if age <= 26:\n",
    "        print(\"Less/equal to 26\")\n",
    "        percentage = 23\n",
    "    else:\n",
    "        print(\"More than 26\")\n",
    "        percentage = 9\n",
    "elif gender == 'F':\n",
    "    print(\"Female\")\n",
    "    car_type = input(\"What is your car type (sports/non-sports) \")\n",
    "    car_type = car_type.upper()\n",
    "    if car_type == \"SPORTS\":\n",
    "        print(\"Sports car\")\n",
    "        percentage = 21\n",
    "    else:\n",
    "        print(\"Non-sports car\")\n",
    "        percentage = 10\n",
    "else:\n",
    "    print(\"Wrong format\")\n",
    "    percentage = None\n",
    "\n",
    "market_price = input(\"What is the market price of your car? \")\n",
    "market_price = int(market_price)\n",
    "\n",
    "ensurance_offer = market_price*percentage/100\n",
    "\n",
    "\n",
    "\n",
    "print(f\"Ensurance offer: {ensurance_offer}\")"
   ]
  }
 ],
 "metadata": {},
 "nbformat": 4,
 "nbformat_minor": 5
}
