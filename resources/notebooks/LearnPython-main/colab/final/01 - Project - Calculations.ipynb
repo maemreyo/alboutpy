{
 "cells": [
  {
   "cell_type": "markdown",
   "id": "93d4ae85",
   "metadata": {},
   "source": [
    "<a \n",
    " href=\"https://colab.research.google.com/github/LearnPythonWithRune/LearnPython/blob/main/colab/final/01 - Project - Calculations.ipynb\"\n",
    " target=\"_parent\">\n",
    "<img \n",
    " src=\"https://colab.research.google.com/assets/colab-badge.svg\"\n",
    "alt=\"Open In Colab\"/>\n",
    "</a>"
   ]
  },
  {
   "cell_type": "markdown",
   "id": "2e0f60b1",
   "metadata": {},
   "source": [
    "# Project - Calculations\n",
    "## Goal\n",
    "- Using Jupyter Notebook as a Calculator\n",
    "- Understand how cells keeps track of calcualtions"
   ]
  },
  {
   "cell_type": "markdown",
   "id": "84ce437f",
   "metadata": {},
   "source": [
    "### Description\n",
    "- Create formulas\n",
    "- Have some fun with basic math"
   ]
  },
  {
   "cell_type": "markdown",
   "id": "340684bc",
   "metadata": {},
   "source": [
    "### Step 1\n",
    "- Make a convertion from **kg** to **lbs**\n",
    "- Use this formula: $lbs = kg \\times 2.2046$\n",
    "- Make the cell to use variables"
   ]
  },
  {
   "cell_type": "code",
   "execution_count": 1,
   "id": "62998b59",
   "metadata": {},
   "outputs": [
    {
     "data": {
      "text/plain": [
       "4.4092"
      ]
     },
     "execution_count": 1,
     "metadata": {},
     "output_type": "execute_result"
    }
   ],
   "source": [
    "kg = 2\n",
    "lbs = kg*2.2046\n",
    "lbs"
   ]
  },
  {
   "cell_type": "markdown",
   "id": "7e729d14",
   "metadata": {},
   "source": [
    "### Step 2\n",
    "- Make calculation of circumference of a circle\n",
    "- The cell should define the radius\n",
    "- Calculate the circumference by the formula: $c = 2 \\times \\pi \\times r$\n",
    "- Define $\\pi = 3.14$ (use variable name **pi**)\n",
    "- Let the cell return the circumference"
   ]
  },
  {
   "cell_type": "code",
   "execution_count": 4,
   "id": "e7fd755b",
   "metadata": {},
   "outputs": [
    {
     "data": {
      "text/plain": [
       "13.188"
      ]
     },
     "execution_count": 4,
     "metadata": {},
     "output_type": "execute_result"
    }
   ],
   "source": [
    "r = 2.1\n",
    "pi = 3.14\n",
    "c = 2*pi*r\n",
    "c"
   ]
  },
  {
   "cell_type": "markdown",
   "id": "da20a390",
   "metadata": {},
   "source": [
    "### Step 3\n",
    "1. Assign a variable to a any number (integer).\n",
    "2. Multiply the number by 3.\n",
    "3. Add 6 to the result from bullet 2.\n",
    "4. Divide this number by 3.\n",
    "5. Subtract the number from bullet 1 from the answer in bullet 4.\n",
    "6. The answer is 2."
   ]
  },
  {
   "cell_type": "code",
   "execution_count": 6,
   "id": "8d1c1a6e",
   "metadata": {},
   "outputs": [
    {
     "data": {
      "text/plain": [
       "2.0"
      ]
     },
     "execution_count": 6,
     "metadata": {},
     "output_type": "execute_result"
    }
   ],
   "source": [
    "number = 56\n",
    "number = number*3\n",
    "number = number + 6\n",
    "number = number/3\n",
    "number = number - 56\n",
    "number"
   ]
  }
 ],
 "metadata": {},
 "nbformat": 4,
 "nbformat_minor": 5
}
