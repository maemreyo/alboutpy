{
 "cells": [
  {
   "cell_type": "markdown",
   "id": "aa6411f6",
   "metadata": {},
   "source": [
    "<a \n",
    " href=\"https://colab.research.google.com/github/LearnPythonWithRune/LearnPython/blob/main/colab/final/11 - Lesson - Comprehension.ipynb\"\n",
    " target=\"_parent\">\n",
    "<img \n",
    " src=\"https://colab.research.google.com/assets/colab-badge.svg\"\n",
    "alt=\"Open In Colab\"/>\n",
    "</a>"
   ]
  },
  {
   "cell_type": "markdown",
   "id": "91fd5ac9",
   "metadata": {},
   "source": [
    "# Comprehension\n",
    "### Goal\n",
    "- What is comprehension\n",
    "- Learn list comprehension\n",
    "- Learn dictionary comprehension"
   ]
  },
  {
   "cell_type": "code",
   "execution_count": 1,
   "id": "5b414141",
   "metadata": {},
   "outputs": [],
   "source": [
    "my_list = [i for i in range(10)]"
   ]
  },
  {
   "cell_type": "code",
   "execution_count": 2,
   "id": "55d6dd09",
   "metadata": {},
   "outputs": [
    {
     "data": {
      "text/plain": [
       "[0, 1, 2, 3, 4, 5, 6, 7, 8, 9]"
      ]
     },
     "execution_count": 2,
     "metadata": {},
     "output_type": "execute_result"
    }
   ],
   "source": [
    "my_list"
   ]
  },
  {
   "cell_type": "code",
   "execution_count": 3,
   "id": "e5f763a7",
   "metadata": {},
   "outputs": [],
   "source": [
    "my_list = []\n",
    "\n",
    "for i in range(10):\n",
    "    my_list.append(i)"
   ]
  },
  {
   "cell_type": "code",
   "execution_count": 4,
   "id": "93725f9f",
   "metadata": {},
   "outputs": [
    {
     "data": {
      "text/plain": [
       "[0, 1, 2, 3, 4, 5, 6, 7, 8, 9]"
      ]
     },
     "execution_count": 4,
     "metadata": {},
     "output_type": "execute_result"
    }
   ],
   "source": [
    "my_list"
   ]
  },
  {
   "cell_type": "code",
   "execution_count": 5,
   "id": "11971b12",
   "metadata": {},
   "outputs": [],
   "source": [
    "my_list = [i*i for i in range(10)]"
   ]
  },
  {
   "cell_type": "code",
   "execution_count": 6,
   "id": "84bc5cc9",
   "metadata": {},
   "outputs": [
    {
     "data": {
      "text/plain": [
       "[0, 1, 4, 9, 16, 25, 36, 49, 64, 81]"
      ]
     },
     "execution_count": 6,
     "metadata": {},
     "output_type": "execute_result"
    }
   ],
   "source": [
    "my_list"
   ]
  },
  {
   "cell_type": "code",
   "execution_count": 7,
   "id": "a88bca11",
   "metadata": {},
   "outputs": [],
   "source": [
    "my_list = [i for i in range(10) if i % 2 == 0]"
   ]
  },
  {
   "cell_type": "code",
   "execution_count": 8,
   "id": "58f5dd35",
   "metadata": {},
   "outputs": [
    {
     "data": {
      "text/plain": [
       "[0, 2, 4, 6, 8]"
      ]
     },
     "execution_count": 8,
     "metadata": {},
     "output_type": "execute_result"
    }
   ],
   "source": [
    "my_list"
   ]
  },
  {
   "cell_type": "code",
   "execution_count": 9,
   "id": "f74b6ce7",
   "metadata": {},
   "outputs": [],
   "source": [
    "my_list = [i if i % 2 else -i for i in range(10)]"
   ]
  },
  {
   "cell_type": "code",
   "execution_count": 10,
   "id": "9ecca22c",
   "metadata": {},
   "outputs": [
    {
     "data": {
      "text/plain": [
       "[0, 1, -2, 3, -4, 5, -6, 7, -8, 9]"
      ]
     },
     "execution_count": 10,
     "metadata": {},
     "output_type": "execute_result"
    }
   ],
   "source": [
    "my_list"
   ]
  },
  {
   "cell_type": "code",
   "execution_count": 11,
   "id": "2017f572",
   "metadata": {},
   "outputs": [],
   "source": [
    "my_list = [i for i in range(10)]"
   ]
  },
  {
   "cell_type": "code",
   "execution_count": 12,
   "id": "edf6e671",
   "metadata": {},
   "outputs": [],
   "source": [
    "another_list = [i*i for i in my_list]"
   ]
  },
  {
   "cell_type": "code",
   "execution_count": 13,
   "id": "2f62ceb5",
   "metadata": {},
   "outputs": [
    {
     "data": {
      "text/plain": [
       "[0, 1, 4, 9, 16, 25, 36, 49, 64, 81]"
      ]
     },
     "execution_count": 13,
     "metadata": {},
     "output_type": "execute_result"
    }
   ],
   "source": [
    "another_list"
   ]
  },
  {
   "cell_type": "code",
   "execution_count": 14,
   "id": "3dad4ce1",
   "metadata": {},
   "outputs": [
    {
     "data": {
      "text/plain": [
       "{0: 0, 1: 1, 2: 4, 3: 9, 4: 16, 5: 25, 6: 36, 7: 49, 8: 64, 9: 81}"
      ]
     },
     "execution_count": 14,
     "metadata": {},
     "output_type": "execute_result"
    }
   ],
   "source": [
    "{i: i*i for i in my_list}"
   ]
  }
 ],
 "metadata": {},
 "nbformat": 4,
 "nbformat_minor": 5
}
