{
 "cells": [
  {
   "cell_type": "markdown",
   "id": "8ae0bb34",
   "metadata": {},
   "source": [
    "<a \n",
    " href=\"https://colab.research.google.com/github/LearnPythonWithRune/LearnPython/blob/main/colab/final/09 - Lesson - CSV files.ipynb\"\n",
    " target=\"_parent\">\n",
    "<img \n",
    " src=\"https://colab.research.google.com/assets/colab-badge.svg\"\n",
    "alt=\"Open In Colab\"/>\n",
    "</a>"
   ]
  },
  {
   "cell_type": "markdown",
   "id": "7321f1ba",
   "metadata": {},
   "source": [
    "# CSV Files\n",
    "### Goal\n",
    "- Learn to read and process CSV files"
   ]
  },
  {
   "cell_type": "code",
   "execution_count": 14,
   "id": "7ffc4ca6",
   "metadata": {},
   "outputs": [],
   "source": [
    "import urllib.request\n",
    "import csv"
   ]
  },
  {
   "cell_type": "code",
   "execution_count": 15,
   "id": "8139d268",
   "metadata": {},
   "outputs": [],
   "source": [
    "remote_file = \"https://raw.githubusercontent.com/LearnPythonWithRune/LearnPython/main/colab/files/NameRecords.csv\"\n",
    "\n",
    "with urllib.request.urlopen(remote_file) as f:\n",
    "    csv_reader = csv.DictReader(f.read().decode().split('\\n'))\n",
    "    name_records = list(csv_reader)"
   ]
  },
  {
   "cell_type": "code",
   "execution_count": 16,
   "id": "44e530f2",
   "metadata": {},
   "outputs": [
    {
     "data": {
      "text/plain": [
       "[{'First name': 'Connar', 'Last name': 'Ward', 'Age': '15'},\n",
       " {'First name': 'Rose', 'Last name': 'Peterson', 'Age': '18'},\n",
       " {'First name': 'Paul', 'Last name': 'Cox', 'Age': '12'},\n",
       " {'First name': 'Hanna', 'Last name': 'Hicks', 'Age': '10'}]"
      ]
     },
     "execution_count": 16,
     "metadata": {},
     "output_type": "execute_result"
    }
   ],
   "source": [
    "name_records"
   ]
  },
  {
   "cell_type": "code",
   "execution_count": 10,
   "id": "4176167c",
   "metadata": {},
   "outputs": [
    {
     "data": {
      "text/plain": [
       "{'First name': 'Connar', 'Last name': 'Ward', 'Age': '15'}"
      ]
     },
     "execution_count": 10,
     "metadata": {},
     "output_type": "execute_result"
    }
   ],
   "source": [
    "name_records[0]"
   ]
  },
  {
   "cell_type": "code",
   "execution_count": 11,
   "id": "af272039",
   "metadata": {},
   "outputs": [
    {
     "data": {
      "text/plain": [
       "'Connar'"
      ]
     },
     "execution_count": 11,
     "metadata": {},
     "output_type": "execute_result"
    }
   ],
   "source": [
    "name_records[0]['First name']"
   ]
  },
  {
   "cell_type": "code",
   "execution_count": 12,
   "id": "09792459",
   "metadata": {},
   "outputs": [
    {
     "data": {
      "text/plain": [
       "'Hanna'"
      ]
     },
     "execution_count": 12,
     "metadata": {},
     "output_type": "execute_result"
    }
   ],
   "source": [
    "name_records[3]['First name']"
   ]
  },
  {
   "cell_type": "code",
   "execution_count": 13,
   "id": "e4c83b3e",
   "metadata": {},
   "outputs": [
    {
     "name": "stdout",
     "output_type": "stream",
     "text": [
      "Connar Ward: 15\n",
      "Rose Peterson: 18\n",
      "Paul Cox: 12\n",
      "Hanna Hicks: 10\n"
     ]
    }
   ],
   "source": [
    "for record in name_records:\n",
    "    print(f\"{record['First name']} {record['Last name']}: {record['Age']}\")"
   ]
  }
 ],
 "metadata": {
  "language_info": {
   "name": "python"
  }
 },
 "nbformat": 4,
 "nbformat_minor": 5
}
