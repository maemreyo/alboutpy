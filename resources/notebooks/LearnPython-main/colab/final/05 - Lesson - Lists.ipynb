{
 "cells": [
  {
   "cell_type": "markdown",
   "id": "47e3b1f9",
   "metadata": {},
   "source": [
    "<a \n",
    " href=\"https://colab.research.google.com/github/LearnPythonWithRune/LearnPython/blob/main/colab/final/05 - Lesson - Lists.ipynb\"\n",
    " target=\"_parent\">\n",
    "<img \n",
    " src=\"https://colab.research.google.com/assets/colab-badge.svg\"\n",
    "alt=\"Open In Colab\"/>\n",
    "</a>"
   ]
  },
  {
   "cell_type": "markdown",
   "id": "2c201728",
   "metadata": {},
   "source": [
    "# Lists\n",
    "### Goal\n",
    "- Learn about lists\n",
    "- How to get a random element from a list\n",
    "- How to make a randomization of a string\n",
    "- A few nice functions"
   ]
  },
  {
   "cell_type": "code",
   "execution_count": 1,
   "id": "52b00950",
   "metadata": {},
   "outputs": [],
   "source": [
    "my_list = ['Apple', 'Orange', 'Banana']"
   ]
  },
  {
   "cell_type": "code",
   "execution_count": 2,
   "id": "7574320f",
   "metadata": {},
   "outputs": [
    {
     "data": {
      "text/plain": [
       "['Apple', 'Orange', 'Banana']"
      ]
     },
     "execution_count": 2,
     "metadata": {},
     "output_type": "execute_result"
    }
   ],
   "source": [
    "my_list"
   ]
  },
  {
   "cell_type": "code",
   "execution_count": 3,
   "id": "b5ea9b63",
   "metadata": {},
   "outputs": [
    {
     "data": {
      "text/plain": [
       "'Apple'"
      ]
     },
     "execution_count": 3,
     "metadata": {},
     "output_type": "execute_result"
    }
   ],
   "source": [
    "my_list[0]"
   ]
  },
  {
   "cell_type": "code",
   "execution_count": 4,
   "id": "4a1801b3",
   "metadata": {},
   "outputs": [
    {
     "data": {
      "text/plain": [
       "'Orange'"
      ]
     },
     "execution_count": 4,
     "metadata": {},
     "output_type": "execute_result"
    }
   ],
   "source": [
    "my_list[1]"
   ]
  },
  {
   "cell_type": "code",
   "execution_count": 5,
   "id": "a5826853",
   "metadata": {},
   "outputs": [
    {
     "data": {
      "text/plain": [
       "'Banana'"
      ]
     },
     "execution_count": 5,
     "metadata": {},
     "output_type": "execute_result"
    }
   ],
   "source": [
    "my_list[-1]"
   ]
  },
  {
   "cell_type": "code",
   "execution_count": 6,
   "id": "15b04cc6",
   "metadata": {},
   "outputs": [
    {
     "data": {
      "text/plain": [
       "'Orange'"
      ]
     },
     "execution_count": 6,
     "metadata": {},
     "output_type": "execute_result"
    }
   ],
   "source": [
    "my_list[-2]"
   ]
  },
  {
   "cell_type": "code",
   "execution_count": 7,
   "id": "6ce4a2e4",
   "metadata": {},
   "outputs": [
    {
     "data": {
      "text/plain": [
       "'Banana'"
      ]
     },
     "execution_count": 7,
     "metadata": {},
     "output_type": "execute_result"
    }
   ],
   "source": [
    "my_list.pop()"
   ]
  },
  {
   "cell_type": "code",
   "execution_count": 8,
   "id": "607ac992",
   "metadata": {},
   "outputs": [
    {
     "data": {
      "text/plain": [
       "['Apple', 'Orange']"
      ]
     },
     "execution_count": 8,
     "metadata": {},
     "output_type": "execute_result"
    }
   ],
   "source": [
    "my_list"
   ]
  },
  {
   "cell_type": "code",
   "execution_count": 9,
   "id": "2911193f",
   "metadata": {},
   "outputs": [],
   "source": [
    "my_list.append(\"Banana\")"
   ]
  },
  {
   "cell_type": "code",
   "execution_count": 10,
   "id": "8d6d6092",
   "metadata": {},
   "outputs": [
    {
     "data": {
      "text/plain": [
       "['Apple', 'Orange', 'Banana']"
      ]
     },
     "execution_count": 10,
     "metadata": {},
     "output_type": "execute_result"
    }
   ],
   "source": [
    "my_list"
   ]
  },
  {
   "cell_type": "code",
   "execution_count": 11,
   "id": "84e35feb",
   "metadata": {},
   "outputs": [],
   "source": [
    "another_list = ['France', 'Denmark', 'Sweden']"
   ]
  },
  {
   "cell_type": "code",
   "execution_count": 12,
   "id": "a1eea3e1",
   "metadata": {},
   "outputs": [
    {
     "data": {
      "text/plain": [
       "['Apple', 'Orange', 'Banana', 'France', 'Denmark', 'Sweden']"
      ]
     },
     "execution_count": 12,
     "metadata": {},
     "output_type": "execute_result"
    }
   ],
   "source": [
    "my_list + another_list"
   ]
  },
  {
   "cell_type": "code",
   "execution_count": 13,
   "id": "e7eac130",
   "metadata": {},
   "outputs": [],
   "source": [
    "new_list = my_list + another_list"
   ]
  },
  {
   "cell_type": "code",
   "execution_count": 14,
   "id": "19508eb7",
   "metadata": {},
   "outputs": [
    {
     "data": {
      "text/plain": [
       "['Apple', 'Orange', 'Banana', 'France', 'Denmark', 'Sweden']"
      ]
     },
     "execution_count": 14,
     "metadata": {},
     "output_type": "execute_result"
    }
   ],
   "source": [
    "new_list"
   ]
  },
  {
   "cell_type": "code",
   "execution_count": 15,
   "id": "28fb2535",
   "metadata": {},
   "outputs": [],
   "source": [
    "import random"
   ]
  },
  {
   "cell_type": "code",
   "execution_count": 16,
   "id": "8b8c523d",
   "metadata": {},
   "outputs": [
    {
     "data": {
      "text/plain": [
       "'Denmark'"
      ]
     },
     "execution_count": 16,
     "metadata": {},
     "output_type": "execute_result"
    }
   ],
   "source": [
    "random.choice(new_list)"
   ]
  },
  {
   "cell_type": "code",
   "execution_count": 17,
   "id": "51d40224",
   "metadata": {},
   "outputs": [
    {
     "data": {
      "text/plain": [
       "['Apple', 'Orange', 'Banana', 'France', 'Denmark', 'Sweden']"
      ]
     },
     "execution_count": 17,
     "metadata": {},
     "output_type": "execute_result"
    }
   ],
   "source": [
    "new_list"
   ]
  },
  {
   "cell_type": "code",
   "execution_count": 18,
   "id": "6fe6f1d2",
   "metadata": {},
   "outputs": [
    {
     "data": {
      "text/plain": [
       "'Sweden'"
      ]
     },
     "execution_count": 18,
     "metadata": {},
     "output_type": "execute_result"
    }
   ],
   "source": [
    "random.choice(new_list)"
   ]
  },
  {
   "cell_type": "code",
   "execution_count": 19,
   "id": "7db70823",
   "metadata": {},
   "outputs": [],
   "source": [
    "random.shuffle(new_list)"
   ]
  },
  {
   "cell_type": "code",
   "execution_count": 20,
   "id": "846b2efb",
   "metadata": {},
   "outputs": [
    {
     "data": {
      "text/plain": [
       "['Apple', 'Sweden', 'France', 'Orange', 'Denmark', 'Banana']"
      ]
     },
     "execution_count": 20,
     "metadata": {},
     "output_type": "execute_result"
    }
   ],
   "source": [
    "new_list"
   ]
  },
  {
   "cell_type": "code",
   "execution_count": 21,
   "id": "b609e820",
   "metadata": {},
   "outputs": [
    {
     "data": {
      "text/plain": [
       "'Apple Sweden France Orange Denmark Banana'"
      ]
     },
     "execution_count": 21,
     "metadata": {},
     "output_type": "execute_result"
    }
   ],
   "source": [
    "' '.join(new_list)"
   ]
  },
  {
   "cell_type": "code",
   "execution_count": 22,
   "id": "bcc2815a",
   "metadata": {},
   "outputs": [
    {
     "data": {
      "text/plain": [
       "'mweesao'"
      ]
     },
     "execution_count": 22,
     "metadata": {},
     "output_type": "execute_result"
    }
   ],
   "source": [
    "s = \"awesome\"\n",
    "''.join(random.sample(s, len(s)))"
   ]
  },
  {
   "cell_type": "code",
   "execution_count": 23,
   "id": "c8345896",
   "metadata": {},
   "outputs": [],
   "source": [
    "my_numbers = [3, 5, 2, 6, 8, 2]"
   ]
  },
  {
   "cell_type": "code",
   "execution_count": 24,
   "id": "ad3316ba",
   "metadata": {},
   "outputs": [
    {
     "data": {
      "text/plain": [
       "[3, 5, 2, 6, 8, 2]"
      ]
     },
     "execution_count": 24,
     "metadata": {},
     "output_type": "execute_result"
    }
   ],
   "source": [
    "my_numbers"
   ]
  },
  {
   "cell_type": "code",
   "execution_count": 25,
   "id": "abb14e32",
   "metadata": {},
   "outputs": [
    {
     "data": {
      "text/plain": [
       "8"
      ]
     },
     "execution_count": 25,
     "metadata": {},
     "output_type": "execute_result"
    }
   ],
   "source": [
    "max(my_numbers)"
   ]
  },
  {
   "cell_type": "code",
   "execution_count": 26,
   "id": "3189451b",
   "metadata": {},
   "outputs": [
    {
     "data": {
      "text/plain": [
       "2"
      ]
     },
     "execution_count": 26,
     "metadata": {},
     "output_type": "execute_result"
    }
   ],
   "source": [
    "min(my_numbers)"
   ]
  },
  {
   "cell_type": "code",
   "execution_count": 27,
   "id": "0e498b5c",
   "metadata": {},
   "outputs": [
    {
     "data": {
      "text/plain": [
       "26"
      ]
     },
     "execution_count": 27,
     "metadata": {},
     "output_type": "execute_result"
    }
   ],
   "source": [
    "sum(my_numbers)"
   ]
  },
  {
   "cell_type": "code",
   "execution_count": 28,
   "id": "419dbcd7",
   "metadata": {},
   "outputs": [
    {
     "data": {
      "text/plain": [
       "6"
      ]
     },
     "execution_count": 28,
     "metadata": {},
     "output_type": "execute_result"
    }
   ],
   "source": [
    "len(my_numbers)"
   ]
  },
  {
   "cell_type": "code",
   "execution_count": 29,
   "id": "2b3316ca",
   "metadata": {},
   "outputs": [
    {
     "data": {
      "text/plain": [
       "4.333333333333333"
      ]
     },
     "execution_count": 29,
     "metadata": {},
     "output_type": "execute_result"
    }
   ],
   "source": [
    "sum(my_numbers)/len(my_numbers)"
   ]
  }
 ],
 "metadata": {},
 "nbformat": 4,
 "nbformat_minor": 5
}
