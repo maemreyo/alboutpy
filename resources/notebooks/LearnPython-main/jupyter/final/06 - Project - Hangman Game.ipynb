{
 "cells": [
  {
   "cell_type": "markdown",
   "id": "293bd48f",
   "metadata": {},
   "source": [
    "# Project - Hangman Game\n",
    "### Goal\n",
    "- Create a [Hangman Game](https://en.wikipedia.org/wiki/Hangman_(game))"
   ]
  },
  {
   "cell_type": "markdown",
   "id": "35d898a7",
   "metadata": {},
   "source": [
    "### Description\n",
    "- The game is as follows.\n",
    "- Computer has a list of words.\n",
    "- Computer chooses a random word from the list.\n",
    "- The player gets 10 wrong guesses (10 turns).\n",
    "- The game follows this loop\n",
    "    - Computer prints the word character by character replacing with underscore those not guessed yet (initial no characters has been guessed).\n",
    "    - Player guesses a character.\n",
    "    - If character is not in word, a turn is withdrawn\n",
    "    - If no turns left, computer wins.\n",
    "    - If player has guessed all characters, player wins\n",
    "- An initial word list could be: ['father', 'enterprise', 'science', 'programming', 'resistance', 'fiction', 'condition', 'reverse', 'computer', 'python']"
   ]
  },
  {
   "cell_type": "code",
   "execution_count": 1,
   "id": "b140b8c8",
   "metadata": {},
   "outputs": [],
   "source": [
    "import random"
   ]
  },
  {
   "cell_type": "code",
   "execution_count": 5,
   "id": "2fb6283b",
   "metadata": {},
   "outputs": [
    {
     "name": "stdout",
     "output_type": "stream",
     "text": [
      "You have 10 turns left\n",
      "_ _ _ _ _ _ _ \n",
      "You have 10 turns left\n",
      "f\n",
      "_ _ _ _ _ _ \n",
      "You have 10 turns left\n",
      "f\n",
      "i\n",
      "_ _ i\n",
      "_ _ \n",
      "You have 10 turns left\n",
      "f\n",
      "i\n",
      "_ _ i\n",
      "_ _ \n",
      "You have 10 turns left\n",
      "f\n",
      "i\n",
      "c\n",
      "_ i\n",
      "_ _ \n",
      "You have 10 turns left\n",
      "f\n",
      "i\n",
      "c\n",
      "t\n",
      "i\n",
      "_ _ \n",
      "You have 10 turns left\n",
      "f\n",
      "i\n",
      "c\n",
      "t\n",
      "i\n",
      "_ _ \n",
      "You have 10 turns left\n",
      "f\n",
      "i\n",
      "c\n",
      "t\n",
      "i\n",
      "_ _ \n",
      "You have 10 turns left\n",
      "f\n",
      "i\n",
      "c\n",
      "t\n",
      "i\n",
      "o\n",
      "n\n",
      "\n"
     ]
    }
   ],
   "source": [
    "words = ['father', 'enterprise', 'science', 'programming', 'resistance', 'fiction', 'condition', 'reverse', 'computer', 'python']\n",
    "word = random.choice(words)\n",
    "\n",
    "guesses = ''\n",
    "\n",
    "turns = 10\n",
    "\n",
    "while turns > 0:\n",
    "    print(f\"You have {turns} turns left\")\n",
    "\n",
    "    guessed_all = True\n",
    "    for c in word:\n",
    "        if c in guesses:\n",
    "            print(c)\n",
    "        else:\n",
    "            print('_', end=' ')\n",
    "            guessed_all = False\n",
    "    print()\n",
    "\n",
    "    if not guessed_all:\n",
    "        guess = input(\"Guess a char: \")\n",
    "        guesses = guesses + guess\n",
    "        if guess not in word:\n",
    "            turns = turns - 1\n",
    "    else:\n",
    "        turns = 0"
   ]
  }
 ],
 "metadata": {
  "kernelspec": {
   "display_name": "Python 3 (ipykernel)",
   "language": "python",
   "name": "python3"
  },
  "language_info": {
   "codemirror_mode": {
    "name": "ipython",
    "version": 3
   },
   "file_extension": ".py",
   "mimetype": "text/x-python",
   "name": "python",
   "nbconvert_exporter": "python",
   "pygments_lexer": "ipython3",
   "version": "3.9.13"
  }
 },
 "nbformat": 4,
 "nbformat_minor": 5
}
