{
 "cells": [
  {
   "cell_type": "markdown",
   "id": "b03c6dc1",
   "metadata": {},
   "source": [
    "# CSV Files\n",
    "### Goal\n",
    "- Learn to read and process CSV files"
   ]
  },
  {
   "cell_type": "code",
   "execution_count": 4,
   "id": "db5c92ba",
   "metadata": {},
   "outputs": [
    {
     "data": {
      "text/plain": [
       "[{'First name': 'Connar', 'Last name': 'Ward', 'Age': '15'},\n",
       " {'First name': 'Rose', 'Last name': 'Peterson', 'Age': '18'},\n",
       " {'First name': 'Paul', 'Last name': 'Cox', 'Age': '12'},\n",
       " {'First name': 'Hanna', 'Last name': 'Hicks', 'Age': '10'}]"
      ]
     },
     "execution_count": 4,
     "metadata": {},
     "output_type": "execute_result"
    }
   ],
   "source": [
    "import csv\n",
    "\n",
    "with open(\"files/NameRecords.csv\", \"r\") as f:\n",
    "    csv_reader = csv.DictReader(f)\n",
    "    csv_records = list(csv_reader)\n",
    "csv_records\n",
    "    "
   ]
  },
  {
   "cell_type": "code",
   "execution_count": null,
   "id": "e525ef16",
   "metadata": {},
   "outputs": [],
   "source": []
  },
  {
   "cell_type": "code",
   "execution_count": null,
   "id": "9d250c9c",
   "metadata": {},
   "outputs": [],
   "source": []
  },
  {
   "cell_type": "code",
   "execution_count": null,
   "id": "298ea646",
   "metadata": {},
   "outputs": [],
   "source": []
  },
  {
   "cell_type": "code",
   "execution_count": null,
   "id": "202b2a57",
   "metadata": {},
   "outputs": [],
   "source": []
  },
  {
   "cell_type": "code",
   "execution_count": null,
   "id": "305ccc8e",
   "metadata": {},
   "outputs": [],
   "source": []
  },
  {
   "cell_type": "code",
   "execution_count": null,
   "id": "ceadd15a",
   "metadata": {},
   "outputs": [],
   "source": []
  }
 ],
 "metadata": {
  "kernelspec": {
   "display_name": "Python 3 (ipykernel)",
   "language": "python",
   "name": "python3"
  },
  "language_info": {
   "codemirror_mode": {
    "name": "ipython",
    "version": 3
   },
   "file_extension": ".py",
   "mimetype": "text/x-python",
   "name": "python",
   "nbconvert_exporter": "python",
   "pygments_lexer": "ipython3",
   "version": "3.9.13"
  }
 },
 "nbformat": 4,
 "nbformat_minor": 5
}
