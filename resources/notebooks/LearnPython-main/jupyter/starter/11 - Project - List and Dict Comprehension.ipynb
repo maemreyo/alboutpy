{
 "cells": [
  {
   "cell_type": "markdown",
   "id": "3f091614",
   "metadata": {},
   "source": [
    "# Project - List and Dict Comprehension\n",
    "### Goal\n",
    "- Learn to use list and dict comprehension"
   ]
  },
  {
   "cell_type": "markdown",
   "id": "640aa6c8",
   "metadata": {},
   "source": [
    "### Description\n",
    "- Redo some of our code"
   ]
  },
  {
   "cell_type": "markdown",
   "id": "c84917ae",
   "metadata": {},
   "source": [
    "### Encrypt with List Comprehension\n",
    "- Use **encrypt_char** and list comprehension to encrypt a string (\"you are awesome\").\n",
    "- HINT: You can use join(.)"
   ]
  },
  {
   "cell_type": "code",
   "execution_count": null,
   "id": "97bde0d6",
   "metadata": {},
   "outputs": [],
   "source": []
  },
  {
   "cell_type": "code",
   "execution_count": null,
   "id": "cda43d72",
   "metadata": {},
   "outputs": [],
   "source": []
  },
  {
   "cell_type": "code",
   "execution_count": null,
   "id": "5a773b21",
   "metadata": {},
   "outputs": [],
   "source": []
  },
  {
   "cell_type": "markdown",
   "id": "9f069eeb",
   "metadata": {},
   "source": [
    "### Decrypt with List Comprehension\n",
    "- Use **decrypt_char** and list comprehension to decrypt the cipher."
   ]
  },
  {
   "cell_type": "code",
   "execution_count": null,
   "id": "b71ae182",
   "metadata": {},
   "outputs": [],
   "source": []
  },
  {
   "cell_type": "code",
   "execution_count": null,
   "id": "1f3dacc4",
   "metadata": {},
   "outputs": [],
   "source": []
  },
  {
   "cell_type": "markdown",
   "id": "241f3099",
   "metadata": {},
   "source": [
    "### Use Dict Comprehension for Frequency Count\n",
    "- Prompt the user for a line of text.\n",
    "- Use dict comprehension to count the number of occurences of each characerter.\n",
    "- Example: \"aabbccccc\" should give {'a': 2, 'b': 2, 'c': 5}\n",
    "- HINT: using count('a') on a string will return the number of occurences of 'a'."
   ]
  },
  {
   "cell_type": "code",
   "execution_count": null,
   "id": "87027aa2",
   "metadata": {},
   "outputs": [],
   "source": []
  },
  {
   "cell_type": "code",
   "execution_count": null,
   "id": "fcbadfd7",
   "metadata": {},
   "outputs": [],
   "source": []
  }
 ],
 "metadata": {
  "kernelspec": {
   "display_name": "Python 3 (ipykernel)",
   "language": "python",
   "name": "python3"
  },
  "language_info": {
   "codemirror_mode": {
    "name": "ipython",
    "version": 3
   },
   "file_extension": ".py",
   "mimetype": "text/x-python",
   "name": "python",
   "nbconvert_exporter": "python",
   "pygments_lexer": "ipython3",
   "version": "3.9.13"
  }
 },
 "nbformat": 4,
 "nbformat_minor": 5
}
