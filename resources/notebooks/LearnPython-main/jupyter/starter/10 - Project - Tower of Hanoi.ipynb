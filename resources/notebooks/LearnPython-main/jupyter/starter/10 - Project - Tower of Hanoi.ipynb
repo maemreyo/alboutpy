{
 "cells": [
  {
   "cell_type": "markdown",
   "metadata": {},
   "source": [
    "# Project - Tower of Hanoi\n",
    "### Goal\n",
    "- Solve [Tower of Hanoi](https://en.wikipedia.org/wiki/Tower_of_Hanoi) recusive"
   ]
  },
  {
   "cell_type": "markdown",
   "metadata": {},
   "source": [
    "### Description of Tower of Hanoi\n",
    "- Tower of Hanoi is a mathematical game, which has three rules. Before we set the rules, let’s see how our universe looks like.\n",
    "\n",
    "![Tower of Hanoi](img/TowerOfHanoi-01.png)\n",
    "\n",
    "- All the disks have different sizes.\n",
    "- The goal is to move all the disks from on tower (rod) to another one with the following 3 rules.\n",
    "    1. You can only move one disk at the time.\n",
    "    2. You can only take the top disk and place on top of another tower (rod).\n",
    "    3. You cannot place a bigger disk on top of a smaller disk.\n",
    "\n",
    "- The first two rules combined means that you can only take one top disk and move it.\n",
    "\n",
    "![Tower of Hanoi](img/TowerOfHanoi-02.png)\n",
    "\n",
    "- The third rule says, that we cannot move disk 2 on top of disk 1.\n",
    "\n",
    "![Tower of Hanoi](img/TowerOfHanoi-03.png)\n",
    "\n",
    "- Game: How do you get from here.\n",
    "\n",
    "![Tower of Hanoi](img/TowerOfHanoi-01.png)\n",
    "\n",
    "- To here - following the 3 rules.\n",
    "\n",
    "![Tower of Hanoi](img/TowerOfHanoi-04.png)"
   ]
  },
  {
   "cell_type": "markdown",
   "metadata": {},
   "source": [
    "### How to Solve Tower of Hanoi\n",
    "- Assume you can solve the smaller problem of 2 disks.\n",
    "- Then we can move 2 disk at the same time\n",
    "\n",
    "![Tower of Hanoi](img/TowerOfHanoi-05.png)\n",
    "\n",
    "- Then we can move disk 3 on place.\n",
    "\n",
    "![Tower of Hanoi](img/TowerOfHanoi-06.png)\n",
    "\n",
    "- And we can move the subproblem of 2 disk on place.\n",
    "\n",
    "![Tower of Hanoi](img/TowerOfHanoi-04.png)"
   ]
  },
  {
   "cell_type": "markdown",
   "metadata": {},
   "source": [
    "### Recursion\n",
    "- That is the formula. It is all you need to know.\n",
    "    1. Move the smaller problem of 2 disks from first tower (rod) to second tower (rod).\n",
    "    2. Move the big disk from first tower (rod) to last tower (rod).\n",
    "    3. Move the smaller problem of 2 disks from second tower (rod) to last tower (rod)."
   ]
  },
  {
   "cell_type": "markdown",
   "metadata": {},
   "source": [
    "### Steps\n",
    "- Step 1: Represent the towers as [[3, 2, 1], [], []]\n",
    "- Step 2: Create a move function, which takes the towers and can move a disk from one tower to another.\n",
    "    - HINT: Use **.pop()** and **.append(.)**\n",
    "- Step 3: Make a helper function to print the towers\n",
    "    - HINT: Assume that we have 3 towers and 3 disks\n",
    "- Step 4: The recursive function\n",
    "    - **solve_tower_of_hanoi(towers, n, start_tower, dest_tower, aux_tower)**\n",
    "    - **n** is the number of disks we move, starting with 3, then we call recursive down with 2, 1, and 0.\n",
    "    - The base case is **n = 0**, just return in that case\n",
    "    - Move subproblem of n - 1 disks from start_tower to aux_tower.\n",
    "    - Move disk n to dest_tower. (you can print the tower here if you like)\n",
    "    - Move subproblem of n - 1 disk from aux_tower to dest_tower."
   ]
  },
  {
   "cell_type": "code",
   "execution_count": null,
   "id": "e5830d6f",
   "metadata": {},
   "outputs": [],
   "source": []
  },
  {
   "cell_type": "code",
   "execution_count": null,
   "id": "4de1f057",
   "metadata": {},
   "outputs": [],
   "source": []
  },
  {
   "cell_type": "code",
   "execution_count": null,
   "id": "4783bc3f",
   "metadata": {},
   "outputs": [],
   "source": []
  },
  {
   "cell_type": "code",
   "execution_count": null,
   "id": "759349b3",
   "metadata": {},
   "outputs": [],
   "source": []
  },
  {
   "cell_type": "code",
   "execution_count": null,
   "id": "643685a9",
   "metadata": {},
   "outputs": [],
   "source": []
  },
  {
   "cell_type": "code",
   "execution_count": null,
   "id": "8b14a251",
   "metadata": {},
   "outputs": [],
   "source": []
  },
  {
   "cell_type": "code",
   "execution_count": null,
   "id": "0c8de4d5",
   "metadata": {},
   "outputs": [],
   "source": []
  }
 ],
 "metadata": {
  "kernelspec": {
   "display_name": "Python 3",
   "language": "python",
   "name": "python3"
  },
  "language_info": {
   "codemirror_mode": {
    "name": "ipython",
    "version": 3
   },
   "file_extension": ".py",
   "mimetype": "text/x-python",
   "name": "python",
   "nbconvert_exporter": "python",
   "pygments_lexer": "ipython3",
   "version": "3.9.10"
  }
 },
 "nbformat": 4,
 "nbformat_minor": 5
}
