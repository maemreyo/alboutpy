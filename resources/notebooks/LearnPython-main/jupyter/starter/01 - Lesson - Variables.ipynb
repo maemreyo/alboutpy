{
 "cells": [
  {
   "cell_type": "markdown",
   "id": "2972c557",
   "metadata": {},
   "source": [
    "# Variables\n",
    "- A variable is a reserved memory location.\n",
    "- A variable in a python program gives data to the computer for processing."
   ]
  },
  {
   "cell_type": "markdown",
   "id": "1e973e76",
   "metadata": {},
   "source": [
    "### Basic data types\n",
    "- Integers\n",
    "- Floats\n",
    "- Strings\n",
    "- Boolean"
   ]
  },
  {
   "cell_type": "markdown",
   "id": "bb45a7e8",
   "metadata": {},
   "source": [
    "### Python Variable Name Convention\n",
    "A variable name in Python should fulfil the following\n",
    "- Use lowercase\n",
    "- Separate words with underscore.\n",
    "\n",
    "A variable name in Python can be\n",
    "- A single lowercase letter\n",
    "- A lowercase word\n",
    "- Or lowercase words separated by underscore.\n",
    "\n",
    "Examples of variable names\n",
    "- x\n",
    "- i\n",
    "- cars\n",
    "- my_cars\n",
    "\n",
    "Note that other programming languages can have other naming conventions."
   ]
  },
  {
   "cell_type": "markdown",
   "id": "a62f6246",
   "metadata": {},
   "source": [
    "### Declaration of variables"
   ]
  },
  {
   "cell_type": "code",
   "execution_count": 2,
   "id": "c9db71d6",
   "metadata": {},
   "outputs": [],
   "source": [
    "name = \"Trung\""
   ]
  },
  {
   "cell_type": "code",
   "execution_count": 3,
   "id": "6b30fe7d",
   "metadata": {},
   "outputs": [],
   "source": [
    "age = 25"
   ]
  },
  {
   "cell_type": "markdown",
   "id": "e045f05f",
   "metadata": {},
   "source": [
    "### Integers\n",
    "An integer is a number which is not a fraction; a whole number.\n",
    "\n",
    "Examples of integers: \n",
    "- -23\n",
    "- -5\n",
    "- 0\n",
    "- 1\n",
    "- 78\n",
    "- 1,980,350\n",
    "\n",
    "Examples of non-integers: \n",
    "- 3.14\n",
    "- 0.001\n",
    "- 9,999.999"
   ]
  },
  {
   "cell_type": "code",
   "execution_count": 5,
   "id": "73c36b6f",
   "metadata": {},
   "outputs": [],
   "source": [
    "a = 5\n",
    "b = 6"
   ]
  },
  {
   "cell_type": "code",
   "execution_count": 6,
   "id": "273d25f0",
   "metadata": {},
   "outputs": [
    {
     "data": {
      "text/plain": [
       "(int, int)"
      ]
     },
     "execution_count": 6,
     "metadata": {},
     "output_type": "execute_result"
    }
   ],
   "source": [
    "type(a), type(b)"
   ]
  },
  {
   "cell_type": "code",
   "execution_count": 7,
   "id": "35f87c11",
   "metadata": {},
   "outputs": [
    {
     "data": {
      "text/plain": [
       "int"
      ]
     },
     "execution_count": 7,
     "metadata": {},
     "output_type": "execute_result"
    }
   ],
   "source": [
    "type(a+b)"
   ]
  },
  {
   "cell_type": "code",
   "execution_count": null,
   "id": "03056dda",
   "metadata": {},
   "outputs": [],
   "source": []
  },
  {
   "cell_type": "markdown",
   "id": "01d0ea7b",
   "metadata": {},
   "source": [
    "### Float\n",
    "A float is a numbers with digits on both sides of a decimal point. This is in contrast to the integer data type, which houses an integer or whole number.\n",
    "\n",
    "Examples of floats:\n",
    "- 3.13\n",
    "- 9.99\n",
    "- 0.0001\n",
    "\n",
    "Note that a float data type in Python can represent a whole number.\n",
    "- 1.0\n",
    "- 3.0"
   ]
  },
  {
   "cell_type": "code",
   "execution_count": 9,
   "id": "436914f9",
   "metadata": {},
   "outputs": [],
   "source": [
    "a = 1.0\n",
    "b = 2.0"
   ]
  },
  {
   "cell_type": "code",
   "execution_count": 10,
   "id": "4566f05c",
   "metadata": {},
   "outputs": [
    {
     "data": {
      "text/plain": [
       "(float, float)"
      ]
     },
     "execution_count": 10,
     "metadata": {},
     "output_type": "execute_result"
    }
   ],
   "source": [
    "type(a), type(b)"
   ]
  },
  {
   "cell_type": "code",
   "execution_count": 11,
   "id": "fa34d09d",
   "metadata": {},
   "outputs": [
    {
     "data": {
      "text/plain": [
       "float"
      ]
     },
     "execution_count": 11,
     "metadata": {},
     "output_type": "execute_result"
    }
   ],
   "source": [
    "type(a+b)"
   ]
  },
  {
   "cell_type": "code",
   "execution_count": 12,
   "id": "2b85431a",
   "metadata": {},
   "outputs": [
    {
     "data": {
      "text/plain": [
       "3.0"
      ]
     },
     "execution_count": 12,
     "metadata": {},
     "output_type": "execute_result"
    }
   ],
   "source": [
    "a + b"
   ]
  },
  {
   "cell_type": "code",
   "execution_count": 13,
   "id": "932f69a1",
   "metadata": {},
   "outputs": [],
   "source": [
    "c = 3"
   ]
  },
  {
   "cell_type": "code",
   "execution_count": 14,
   "id": "bfdba41c",
   "metadata": {},
   "outputs": [],
   "source": [
    "d = c + a + b"
   ]
  },
  {
   "cell_type": "code",
   "execution_count": 15,
   "id": "03970c30",
   "metadata": {},
   "outputs": [
    {
     "data": {
      "text/plain": [
       "float"
      ]
     },
     "execution_count": 15,
     "metadata": {},
     "output_type": "execute_result"
    }
   ],
   "source": [
    "type(d)"
   ]
  },
  {
   "cell_type": "code",
   "execution_count": null,
   "id": "b423f055",
   "metadata": {},
   "outputs": [],
   "source": []
  },
  {
   "cell_type": "markdown",
   "id": "39cd0370",
   "metadata": {},
   "source": [
    "### Math functions\n",
    "- **abs()** Returns absolute value of a number\n",
    "- **pow()** Raises a number to a power\n",
    "- **round()** Rounds a floating-point value"
   ]
  },
  {
   "cell_type": "code",
   "execution_count": 16,
   "id": "081b0042",
   "metadata": {},
   "outputs": [
    {
     "data": {
      "text/plain": [
       "0"
      ]
     },
     "execution_count": 16,
     "metadata": {},
     "output_type": "execute_result"
    }
   ],
   "source": [
    "abs(-0)"
   ]
  },
  {
   "cell_type": "code",
   "execution_count": 17,
   "id": "4712179c",
   "metadata": {},
   "outputs": [
    {
     "data": {
      "text/plain": [
       "8"
      ]
     },
     "execution_count": 17,
     "metadata": {},
     "output_type": "execute_result"
    }
   ],
   "source": [
    "pow(2,3)"
   ]
  },
  {
   "cell_type": "code",
   "execution_count": 18,
   "id": "38138478",
   "metadata": {},
   "outputs": [
    {
     "data": {
      "text/plain": [
       "4.840000000000001"
      ]
     },
     "execution_count": 18,
     "metadata": {},
     "output_type": "execute_result"
    }
   ],
   "source": [
    "pow(2.2, 2)"
   ]
  },
  {
   "cell_type": "code",
   "execution_count": 19,
   "id": "6ceda4c0",
   "metadata": {},
   "outputs": [
    {
     "data": {
      "text/plain": [
       "1.23"
      ]
     },
     "execution_count": 19,
     "metadata": {},
     "output_type": "execute_result"
    }
   ],
   "source": [
    "round(1.2323232323, 2)"
   ]
  },
  {
   "cell_type": "code",
   "execution_count": null,
   "id": "44b26278",
   "metadata": {},
   "outputs": [],
   "source": []
  },
  {
   "cell_type": "markdown",
   "id": "fcef92ae",
   "metadata": {},
   "source": [
    "### Strings\n",
    "A string in Python is a sequence of characters.\n",
    "\n",
    "Examples\n",
    "- \"I am a string!\"\n",
    "- 'I am another string'"
   ]
  },
  {
   "cell_type": "code",
   "execution_count": 21,
   "id": "6d3827a9",
   "metadata": {},
   "outputs": [],
   "source": [
    "name = \"Im Trung\"\n",
    "age = \"Im 25\""
   ]
  },
  {
   "cell_type": "code",
   "execution_count": 22,
   "id": "e4dc6c8a",
   "metadata": {},
   "outputs": [
    {
     "data": {
      "text/plain": [
       "'Im TrungIm 25'"
      ]
     },
     "execution_count": 22,
     "metadata": {},
     "output_type": "execute_result"
    }
   ],
   "source": [
    "name + age"
   ]
  },
  {
   "cell_type": "code",
   "execution_count": 23,
   "id": "827b50df",
   "metadata": {},
   "outputs": [
    {
     "name": "stdout",
     "output_type": "stream",
     "text": [
      "Hello Im Trung\n"
     ]
    }
   ],
   "source": [
    "print(\"Hello\", name)"
   ]
  },
  {
   "cell_type": "code",
   "execution_count": 24,
   "id": "fe594049",
   "metadata": {},
   "outputs": [
    {
     "name": "stdout",
     "output_type": "stream",
     "text": [
      "aaa 6\n"
     ]
    }
   ],
   "source": [
    "z = 5\n",
    "print(f\"aaa {z + 1}\")"
   ]
  },
  {
   "cell_type": "code",
   "execution_count": null,
   "id": "18e37279",
   "metadata": {},
   "outputs": [],
   "source": []
  },
  {
   "cell_type": "markdown",
   "id": "e06c1571",
   "metadata": {},
   "source": [
    "### Boolean\n",
    "- True or False (case sensitive)\n",
    "- Either it rains or not -> Either you take your umbrella or not"
   ]
  },
  {
   "cell_type": "code",
   "execution_count": 25,
   "id": "837360bd",
   "metadata": {},
   "outputs": [
    {
     "data": {
      "text/plain": [
       "True"
      ]
     },
     "execution_count": 25,
     "metadata": {},
     "output_type": "execute_result"
    }
   ],
   "source": [
    "True\n"
   ]
  },
  {
   "cell_type": "code",
   "execution_count": 26,
   "id": "eb933c6f",
   "metadata": {},
   "outputs": [
    {
     "data": {
      "text/plain": [
       "False"
      ]
     },
     "execution_count": 26,
     "metadata": {},
     "output_type": "execute_result"
    }
   ],
   "source": [
    "False"
   ]
  },
  {
   "cell_type": "code",
   "execution_count": 27,
   "id": "51ffcc64",
   "metadata": {},
   "outputs": [
    {
     "data": {
      "text/plain": [
       "False"
      ]
     },
     "execution_count": 27,
     "metadata": {},
     "output_type": "execute_result"
    }
   ],
   "source": [
    "1 > 2"
   ]
  },
  {
   "cell_type": "code",
   "execution_count": 28,
   "id": "acbccf98",
   "metadata": {},
   "outputs": [
    {
     "ename": "TypeError",
     "evalue": "'>' not supported between instances of 'str' and 'int'",
     "output_type": "error",
     "traceback": [
      "\u001b[0;31m---------------------------------------------------------------------------\u001b[0m",
      "\u001b[0;31mTypeError\u001b[0m                                 Traceback (most recent call last)",
      "\u001b[0;32m/var/folders/fd/wwjccbdd3118z41wxwh3zf_00000gp/T/ipykernel_52936/1687267052.py\u001b[0m in \u001b[0;36m<module>\u001b[0;34m\u001b[0m\n\u001b[0;32m----> 1\u001b[0;31m \u001b[0;34m\"1\"\u001b[0m \u001b[0;34m>\u001b[0m \u001b[0;36m2\u001b[0m\u001b[0;34m\u001b[0m\u001b[0;34m\u001b[0m\u001b[0m\n\u001b[0m",
      "\u001b[0;31mTypeError\u001b[0m: '>' not supported between instances of 'str' and 'int'"
     ]
    }
   ],
   "source": [
    "\"1\" > 2"
   ]
  },
  {
   "cell_type": "code",
   "execution_count": 29,
   "id": "c54cbfe9",
   "metadata": {},
   "outputs": [
    {
     "data": {
      "text/plain": [
       "False"
      ]
     },
     "execution_count": 29,
     "metadata": {},
     "output_type": "execute_result"
    }
   ],
   "source": [
    "\"1\" > \"2\""
   ]
  },
  {
   "cell_type": "code",
   "execution_count": null,
   "id": "8b0b908c",
   "metadata": {},
   "outputs": [],
   "source": []
  },
  {
   "cell_type": "code",
   "execution_count": null,
   "id": "e09a1b8a",
   "metadata": {},
   "outputs": [],
   "source": []
  }
 ],
 "metadata": {
  "kernelspec": {
   "display_name": "Python 3 (ipykernel)",
   "language": "python",
   "name": "python3"
  },
  "language_info": {
   "codemirror_mode": {
    "name": "ipython",
    "version": 3
   },
   "file_extension": ".py",
   "mimetype": "text/x-python",
   "name": "python",
   "nbconvert_exporter": "python",
   "pygments_lexer": "ipython3",
   "version": "3.9.13"
  }
 },
 "nbformat": 4,
 "nbformat_minor": 5
}
