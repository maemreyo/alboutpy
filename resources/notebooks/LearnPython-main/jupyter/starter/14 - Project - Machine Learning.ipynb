{
 "cells": [
  {
   "cell_type": "markdown",
   "metadata": {},
   "source": [
    "# Project - Machine Learning\n",
    "### Goal\n",
    "- Implement a Linear Regression Model."
   ]
  },
  {
   "cell_type": "markdown",
   "metadata": {},
   "source": [
    "### Description\n",
    "- import numpy as np and import csv\n",
    "- from sklearn.linear_model import LinearRegression\n",
    "- import matplotlib.pyplot as plt with %matplotlib inline\n",
    "- Read the CSV file files/cars.csv as a list of dictionaries\n",
    "- Use list comprehension to get Horsepower and Torque from the CSV data.\n",
    "- Create the lists as NumPy arrays and reshape them.\n",
    "- Create a LinearRegression() model.\n",
    "- Call **fit(.)** with the two reshaped lists.\n",
    "- Call **predict(.)** with the reshaped list of Horsepower.\n",
    "- Create a scatter plot with all the points (Horsepower vs Torque)\n",
    "- Create a line (red) with the prediction result."
   ]
  },
  {
   "cell_type": "code",
   "execution_count": null,
   "id": "4654348e",
   "metadata": {},
   "outputs": [],
   "source": []
  },
  {
   "cell_type": "code",
   "execution_count": null,
   "id": "84e8a48b",
   "metadata": {},
   "outputs": [],
   "source": []
  },
  {
   "cell_type": "code",
   "execution_count": null,
   "id": "8dd0fe22",
   "metadata": {},
   "outputs": [],
   "source": []
  },
  {
   "cell_type": "code",
   "execution_count": null,
   "id": "0f1d7b83",
   "metadata": {},
   "outputs": [],
   "source": []
  },
  {
   "cell_type": "code",
   "execution_count": null,
   "id": "347e6273",
   "metadata": {},
   "outputs": [],
   "source": []
  },
  {
   "cell_type": "code",
   "execution_count": null,
   "id": "90dddc85",
   "metadata": {},
   "outputs": [],
   "source": []
  },
  {
   "cell_type": "code",
   "execution_count": null,
   "id": "c33f4bb4",
   "metadata": {},
   "outputs": [],
   "source": []
  }
 ],
 "metadata": {
  "kernelspec": {
   "display_name": "Python 3",
   "language": "python",
   "name": "python3"
  },
  "language_info": {
   "codemirror_mode": {
    "name": "ipython",
    "version": 3
   },
   "file_extension": ".py",
   "mimetype": "text/x-python",
   "name": "python",
   "nbconvert_exporter": "python",
   "pygments_lexer": "ipython3",
   "version": "3.9.10"
  }
 },
 "nbformat": 4,
 "nbformat_minor": 5
}
