{
 "cells": [
  {
   "cell_type": "markdown",
   "metadata": {},
   "source": [
    "# Project - Pandas and Excel Export\n",
    "### Goal\n",
    "- Learn how to use Pandas DataFrames\n",
    "- Export to Excel spreadsheets"
   ]
  },
  {
   "cell_type": "markdown",
   "metadata": {},
   "source": [
    "### Description\n",
    "- import pandas as pd\n",
    "- Read the CSV file files/SalesData.csv with pandas\n",
    "    - Remember to set index_col to Date, delimiter to ';' and parse_dates to True\n",
    "- Group the data by **Sales rep** and sum it\n",
    "- Group the data by month\n",
    "    - HINT: Use pd.Grouper(freq='M')\n",
    "    - HINT: Change the index naming to use month names\n",
    "- Export the data to Excel\n",
    "    - Create an ExcelWriter from Pandas\n",
    "    - Write a sheet with **Sales rep** data create above (remember to set sheet_name)\n",
    "    - Write a sheet with **Monthly** data created above (remember to set sheet_name)\n",
    "- Bonus:\n",
    "    - Create charts column charts for each sheet.\n",
    "    - Use the simple way we created it."
   ]
  },
  {
   "cell_type": "code",
   "execution_count": null,
   "id": "5ea34f00",
   "metadata": {},
   "outputs": [],
   "source": []
  },
  {
   "cell_type": "code",
   "execution_count": null,
   "id": "191b94f3",
   "metadata": {},
   "outputs": [],
   "source": []
  },
  {
   "cell_type": "code",
   "execution_count": null,
   "id": "d8db71e2",
   "metadata": {},
   "outputs": [],
   "source": []
  },
  {
   "cell_type": "code",
   "execution_count": null,
   "id": "dc2899a9",
   "metadata": {},
   "outputs": [],
   "source": []
  },
  {
   "cell_type": "code",
   "execution_count": null,
   "id": "0daf237d",
   "metadata": {},
   "outputs": [],
   "source": []
  },
  {
   "cell_type": "code",
   "execution_count": null,
   "id": "8fa76e42",
   "metadata": {},
   "outputs": [],
   "source": []
  },
  {
   "cell_type": "code",
   "execution_count": null,
   "id": "162efc5a",
   "metadata": {},
   "outputs": [],
   "source": []
  },
  {
   "cell_type": "code",
   "execution_count": null,
   "id": "b1d2b490",
   "metadata": {},
   "outputs": [],
   "source": []
  },
  {
   "cell_type": "code",
   "execution_count": null,
   "id": "064cb648",
   "metadata": {},
   "outputs": [],
   "source": []
  },
  {
   "cell_type": "code",
   "execution_count": null,
   "id": "831a9558",
   "metadata": {},
   "outputs": [],
   "source": []
  }
 ],
 "metadata": {
  "kernelspec": {
   "display_name": "Python 3",
   "language": "python",
   "name": "python3"
  },
  "language_info": {
   "codemirror_mode": {
    "name": "ipython",
    "version": 3
   },
   "file_extension": ".py",
   "mimetype": "text/x-python",
   "name": "python",
   "nbconvert_exporter": "python",
   "pygments_lexer": "ipython3",
   "version": "3.9.10"
  }
 },
 "nbformat": 4,
 "nbformat_minor": 5
}
