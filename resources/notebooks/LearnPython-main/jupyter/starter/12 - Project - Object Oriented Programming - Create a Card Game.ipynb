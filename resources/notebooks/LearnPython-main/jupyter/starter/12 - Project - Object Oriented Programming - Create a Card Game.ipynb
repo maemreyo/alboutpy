{
 "cells": [
  {
   "cell_type": "markdown",
   "metadata": {},
   "source": [
    "# Project - Object-Oriented Programming - Create a Card Game\n",
    "### Goal\n",
    "- Learn basic Object-Oriented Programming\n",
    "- Create a Simple Card Game"
   ]
  },
  {
   "cell_type": "markdown",
   "metadata": {},
   "source": [
    "### Classes\n",
    "![Class diagram](img/ClassDiagram.png)"
   ]
  },
  {
   "cell_type": "markdown",
   "metadata": {},
   "source": [
    "### Card Game\n",
    "- Create a Deck of cards.\n",
    "- Create 4 players (P1, P2, P3, P4)\n",
    "- Divided all cards to 4 players.\n",
    "- Assume you are P1, print the hand of P1.\n",
    "- The game has 13 rounds:\n",
    "    - Each player plays 1 card.\n",
    "    - The player with highest card wins.\n",
    "    - Update the score for the winning hand.\n",
    "    - Print cards played in round and the winner (with winning card).\n",
    "- After the 13 rounds - print score for all players (P1, P2, P3, P4)."
   ]
  },
  {
   "cell_type": "code",
   "execution_count": null,
   "id": "3acfdf5b",
   "metadata": {},
   "outputs": [],
   "source": []
  },
  {
   "cell_type": "code",
   "execution_count": null,
   "id": "892703b6",
   "metadata": {},
   "outputs": [],
   "source": []
  },
  {
   "cell_type": "code",
   "execution_count": null,
   "id": "f054ba82",
   "metadata": {},
   "outputs": [],
   "source": []
  }
 ],
 "metadata": {
  "kernelspec": {
   "display_name": "Python 3",
   "language": "python",
   "name": "python3"
  },
  "language_info": {
   "codemirror_mode": {
    "name": "ipython",
    "version": 3
   },
   "file_extension": ".py",
   "mimetype": "text/x-python",
   "name": "python",
   "nbconvert_exporter": "python",
   "pygments_lexer": "ipython3",
   "version": "3.9.10"
  }
 },
 "nbformat": 4,
 "nbformat_minor": 5
}
