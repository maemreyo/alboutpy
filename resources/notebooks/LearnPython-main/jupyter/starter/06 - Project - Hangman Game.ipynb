{
 "cells": [
  {
   "cell_type": "markdown",
   "id": "32953c2d",
   "metadata": {},
   "source": [
    "# Project - Hangman Game\n",
    "### Goal\n",
    "- Create a [Hangman Game](https://en.wikipedia.org/wiki/Hangman_(game))"
   ]
  },
  {
   "cell_type": "markdown",
   "id": "cdc41040",
   "metadata": {},
   "source": [
    "### Description\n",
    "- The game is as follows.\n",
    "- Computer has a list of words.\n",
    "- Computer chooses a random word from the list.\n",
    "- The player gets 10 wrong guesses (10 turns).\n",
    "- The game follows this loop\n",
    "    - Computer prints the word character by character replacing with underscore those not guessed yet (initial no characters has been guessed).\n",
    "    - Player guesses a character.\n",
    "    - If character is not in word, a turn is withdrawn\n",
    "    - If no turns left, computer wins.\n",
    "    - If player has guessed all characters, player wins\n",
    "- An initial word list could be: ['father', 'enterprise', 'science', 'programming', 'resistance', 'fiction', 'condition', 'reverse', 'computer', 'python']"
   ]
  },
  {
   "cell_type": "code",
   "execution_count": null,
   "id": "c090b787",
   "metadata": {},
   "outputs": [],
   "source": [
    "import random\n",
    "words = ['father', 'enterprise', 'science', 'programming', 'resistance', 'fiction', 'condition', 'reverse', 'computer', 'python']\n",
    "chance = 10\n",
    "\n",
    "word = random.choice(words)\n",
    "hidden_word = word\n",
    "\n",
    "for index in range(len(word)):\n",
    "    hidden_word = word.replace(word[index], \"_\")\n",
    "\n",
    "print(hidden_word)\n",
    "\n",
    "while chance > 0:\n",
    "    guess_letter = input(\"Letter? \")\n",
    "    \n",
    "    if guess_letter in word:\n",
    "        print(f\"{word.count(guess_letter)}\")\n",
    "    else:\n",
    "        chance -= 1"
   ]
  },
  {
   "cell_type": "code",
   "execution_count": null,
   "id": "d74d413d",
   "metadata": {},
   "outputs": [],
   "source": []
  }
 ],
 "metadata": {
  "kernelspec": {
   "display_name": "Python 3 (ipykernel)",
   "language": "python",
   "name": "python3"
  },
  "language_info": {
   "codemirror_mode": {
    "name": "ipython",
    "version": 3
   },
   "file_extension": ".py",
   "mimetype": "text/x-python",
   "name": "python",
   "nbconvert_exporter": "python",
   "pygments_lexer": "ipython3",
   "version": "3.9.13"
  }
 },
 "nbformat": 4,
 "nbformat_minor": 5
}
