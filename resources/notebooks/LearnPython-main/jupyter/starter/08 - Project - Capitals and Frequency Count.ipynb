{
 "cells": [
  {
   "cell_type": "markdown",
   "id": "dbf01510",
   "metadata": {},
   "source": [
    "# Project - Capitals and Frequency Count\n",
    "### Goal\n",
    "- Guess a Captial Game\n",
    "- Frequency Count"
   ]
  },
  {
   "cell_type": "markdown",
   "id": "ed38d6d0",
   "metadata": {},
   "source": [
    "### Description of Guess a Capital Game\n",
    "- Use a dictionary to keep country-capital pairs as key-value.\n",
    "    - {'France': 'Paris', 'Finland': 'Helsinki', 'Sweden': 'Stockholm', 'Denmark': 'Copenhagen'}\n",
    "- Prompt the user 3 times for a capital in a country.\n",
    "- Print the number of correct capitals.\n",
    "- Feel free to print whether answer is correct, and what it is."
   ]
  },
  {
   "cell_type": "code",
   "execution_count": null,
   "id": "1ad0e627",
   "metadata": {},
   "outputs": [],
   "source": [
    "capitals = {'France': 'Paris', 'Finland': 'Helsinki', 'Sweden': 'Stockholm', 'Denmark': 'Copenhagen'}\n",
    "\n",
    "guesses = {\n",
    "    'France': '',\n",
    "    'Finland': '',\n",
    "    'Stockholm': '',\n",
    "    'Denmark': ''\n",
    "}\n",
    "\n",
    "for i in range(4):\n",
    "    guess = input(\"Capital? \")\n",
    "    "
   ]
  },
  {
   "cell_type": "code",
   "execution_count": null,
   "id": "25759a95",
   "metadata": {},
   "outputs": [],
   "source": []
  },
  {
   "cell_type": "markdown",
   "id": "f13a3dbd",
   "metadata": {},
   "source": [
    "### Description of Frequency Count\n",
    "- Prompt the user for a line of text\n",
    "- Use a dictionary to make frequency count of the letters.\n",
    "- Print the frequencies"
   ]
  },
  {
   "cell_type": "code",
   "execution_count": null,
   "id": "9ad7adc0",
   "metadata": {},
   "outputs": [],
   "source": [
    "text = input()\n",
    "\n",
    "fred = {}\n",
    "\n",
    "for item in text:\n",
    "    fred[item] = fred.get(i)"
   ]
  }
 ],
 "metadata": {
  "kernelspec": {
   "display_name": "Python 3 (ipykernel)",
   "language": "python",
   "name": "python3"
  },
  "language_info": {
   "codemirror_mode": {
    "name": "ipython",
    "version": 3
   },
   "file_extension": ".py",
   "mimetype": "text/x-python",
   "name": "python",
   "nbconvert_exporter": "python",
   "pygments_lexer": "ipython3",
   "version": "3.9.13"
  }
 },
 "nbformat": 4,
 "nbformat_minor": 5
}
