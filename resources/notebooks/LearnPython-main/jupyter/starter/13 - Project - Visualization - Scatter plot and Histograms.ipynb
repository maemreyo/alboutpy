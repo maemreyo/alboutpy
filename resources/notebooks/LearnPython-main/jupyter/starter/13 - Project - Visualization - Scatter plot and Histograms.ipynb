{
 "cells": [
  {
   "cell_type": "markdown",
   "metadata": {},
   "source": [
    "# Project - Horsepower vs Torque and Roll Dice\n",
    "### Goal\n",
    "- Learn how to make scatter plot and histograms"
   ]
  },
  {
   "cell_type": "markdown",
   "metadata": {},
   "source": [
    "### Horsepower vs Torque\n",
    "- Import matplotlib.pyplot as plt and use %matplotlib inline.\n",
    "- Import csv\n",
    "- Read the files/cars.csv wil into a list of dictionaries.\n",
    "- Use list comprehension to get\n",
    "    - Horsepwer\n",
    "    - Torque\n",
    "    - Bonus: Fuel City mpg\n",
    "- Make a scatter plot\n",
    "    - Options: Use alpha=.25 and c= with the list of Fuel City mpg"
   ]
  },
  {
   "cell_type": "code",
   "execution_count": null,
   "id": "0e219967",
   "metadata": {},
   "outputs": [],
   "source": []
  },
  {
   "cell_type": "code",
   "execution_count": null,
   "id": "9c0bf154",
   "metadata": {},
   "outputs": [],
   "source": []
  },
  {
   "cell_type": "code",
   "execution_count": null,
   "id": "e7572799",
   "metadata": {},
   "outputs": [],
   "source": []
  },
  {
   "cell_type": "code",
   "execution_count": null,
   "id": "6176ae32",
   "metadata": {},
   "outputs": [],
   "source": []
  },
  {
   "cell_type": "code",
   "execution_count": null,
   "id": "ff94cf8e",
   "metadata": {},
   "outputs": [],
   "source": []
  },
  {
   "cell_type": "code",
   "execution_count": null,
   "id": "5c247bc0",
   "metadata": {},
   "outputs": [],
   "source": []
  },
  {
   "cell_type": "markdown",
   "metadata": {},
   "source": [
    "### Roll Dice\n",
    "- Import random\n",
    "- Create a functin role_dice(), which simulates a roll of 2 dice.\n",
    "- Use list comprehension to create a list of 500 calls to role_dice().\n",
    "- Create a histogram with 11 bins of the list."
   ]
  },
  {
   "cell_type": "code",
   "execution_count": null,
   "id": "88895a9a",
   "metadata": {},
   "outputs": [],
   "source": []
  },
  {
   "cell_type": "code",
   "execution_count": null,
   "id": "d4dd880b",
   "metadata": {},
   "outputs": [],
   "source": []
  },
  {
   "cell_type": "code",
   "execution_count": null,
   "id": "27c229ac",
   "metadata": {},
   "outputs": [],
   "source": []
  },
  {
   "cell_type": "code",
   "execution_count": null,
   "id": "6c9c12a0",
   "metadata": {},
   "outputs": [],
   "source": []
  },
  {
   "cell_type": "code",
   "execution_count": null,
   "id": "8147b341",
   "metadata": {},
   "outputs": [],
   "source": []
  },
  {
   "cell_type": "code",
   "execution_count": null,
   "id": "fb65f8bf",
   "metadata": {},
   "outputs": [],
   "source": []
  },
  {
   "cell_type": "code",
   "execution_count": null,
   "id": "525e72d7",
   "metadata": {},
   "outputs": [],
   "source": []
  }
 ],
 "metadata": {
  "kernelspec": {
   "display_name": "Python 3",
   "language": "python",
   "name": "python3"
  },
  "language_info": {
   "codemirror_mode": {
    "name": "ipython",
    "version": 3
   },
   "file_extension": ".py",
   "mimetype": "text/x-python",
   "name": "python",
   "nbconvert_exporter": "python",
   "pygments_lexer": "ipython3",
   "version": "3.9.10"
  }
 },
 "nbformat": 4,
 "nbformat_minor": 5
}
